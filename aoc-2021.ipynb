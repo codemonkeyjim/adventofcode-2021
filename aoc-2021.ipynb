{
 "cells": [
  {
   "cell_type": "markdown",
   "id": "9b28f125-69bc-4b4e-9618-26d46df65577",
   "metadata": {},
   "source": [
    "# Advent of Code 2021\n",
    "\n",
    "I really liked [Peter Norvig's approach](https://github.com/norvig/pytudes/blob/main/ipynb/Advent-2020.ipynb) to writing and tracking solutions, so I'm going to use his method this year."
   ]
  },
  {
   "cell_type": "markdown",
   "id": "04c9059b",
   "metadata": {},
   "source": [
    "## Day 0: Imports and Utility Functions\n",
    "\n",
    "Preparations prior to Day 1:\n",
    "\n",
    "- Some imports.\n",
    "- A way to read the day's data file and to print/check the output.\n",
    "- Some utilities that are likely to be useful.\n"
   ]
  },
  {
   "cell_type": "code",
   "execution_count": 71,
   "id": "7eddc7ef",
   "metadata": {},
   "outputs": [],
   "source": [
    "from collections import namedtuple\n",
    "from math import prod\n",
    "import operator\n",
    "from typing import Dict, Tuple, Set, List, Iterator, Optional, Union"
   ]
  },
  {
   "cell_type": "code",
   "execution_count": 20,
   "id": "499a7739",
   "metadata": {},
   "outputs": [],
   "source": [
    "def data(day: int, parser=str, sep='\\n') -> list:\n",
    "    \"Split the day's input file into sections separated by `sep`, and apply `parser` to each.\"\n",
    "    sections = open(f'data/advent2021/input{day}.txt').read().rstrip().split(sep)\n",
    "    return [parser(section) for section in sections]\n",
    "     \n",
    "def do(day, *answers) -> Dict[int, int]:\n",
    "    \"E.g., do(3) returns {1: day3_1(in3), 2: day3_2(in3)}. Verifies `answers` if given.\"\n",
    "    g = globals()\n",
    "    got = []\n",
    "    for part in (1, 2):\n",
    "        fname = f'day{day}_{part}'\n",
    "        if fname in g: \n",
    "            got.append(g[fname](g[f'in{day}']))\n",
    "            if len(answers) >= part: \n",
    "                assert got[-1] == answers[part - 1], (\n",
    "                    f'{fname}(in{day}) got {got[-1]}; expected {answers[part - 1]}')\n",
    "    return got\n"
   ]
  },
  {
   "cell_type": "code",
   "execution_count": 46,
   "id": "d8ff87f0",
   "metadata": {},
   "outputs": [],
   "source": [
    "def quantify(iterable, pred=bool) -> int:\n",
    "    \"Count the number of items in iterable for which pred is true.\"\n",
    "    return sum(1 for item in iterable if pred(item))\n",
    "\n",
    "def sliding_window(iterable, window_size) -> list:\n",
    "    for i in range(len(iterable) - window_size + 1):\n",
    "        yield iterable[i:i+window_size]"
   ]
  },
  {
   "cell_type": "markdown",
   "id": "9bc29e9f",
   "metadata": {},
   "source": [
    "## Day 1: Sonar Sweep\n",
    "\n",
    "1. How many measurements are larger than the previous measurement?\n",
    "2. Consider sums of a three-measurement sliding window. How many sums are larger than the previous sum?"
   ]
  },
  {
   "cell_type": "code",
   "execution_count": 40,
   "id": "08cb36d6",
   "metadata": {},
   "outputs": [],
   "source": [
    "in1 = data(1, parser=int)"
   ]
  },
  {
   "cell_type": "code",
   "execution_count": 41,
   "id": "842961ba",
   "metadata": {},
   "outputs": [],
   "source": [
    "def day1_1(depths):\n",
    "    return quantify(sliding_window(depths, 2), lambda window: window[1] > window[0])"
   ]
  },
  {
   "cell_type": "code",
   "execution_count": 51,
   "id": "60faa802",
   "metadata": {},
   "outputs": [],
   "source": [
    "def day1_2(depths):\n",
    "    sums = list(map(sum, sliding_window(depths, 3)))\n",
    "    return quantify(sliding_window(sums, 2), lambda window: window[1] > window[0])"
   ]
  },
  {
   "cell_type": "code",
   "execution_count": 53,
   "id": "84d7b616",
   "metadata": {},
   "outputs": [
    {
     "data": {
      "text/plain": [
       "[1121, 1065]"
      ]
     },
     "execution_count": 53,
     "metadata": {},
     "output_type": "execute_result"
    }
   ],
   "source": [
    "do(1, 1121, 1065)"
   ]
  },
  {
   "cell_type": "markdown",
   "id": "26ad935b",
   "metadata": {},
   "source": [
    "## Day 2: Dive!\n",
    "\n",
    "1. What do you get if you multiply your final horizontal position by your final depth?"
   ]
  },
  {
   "cell_type": "code",
   "execution_count": 57,
   "id": "1e4a0e49",
   "metadata": {},
   "outputs": [],
   "source": [
    "in2 = data(2, lambda line: line.split())"
   ]
  },
  {
   "cell_type": "code",
   "execution_count": 61,
   "id": "662c8b78",
   "metadata": {},
   "outputs": [],
   "source": [
    "Position = tuple[int, int]\n",
    "\n",
    "def move(position: Position, delta: Position) -> Position:\n",
    "    return Position(map(operator.add, position, delta))\n",
    "\n",
    "def navigate(instructions: list[str], position: Position = (0,0)) -> Position:\n",
    "    for instruction in instructions:\n",
    "        match instruction:\n",
    "            case [\"forward\", n]:\n",
    "                position = move(position, (int(n), 0))\n",
    "            case [\"down\", n]:\n",
    "                position = move(position, (0, int(n)))\n",
    "            case [\"up\", n]:\n",
    "                position = move(position, (0, -int(n)))\n",
    "            case _:\n",
    "                raise ValueError(f\"Unmatched instruction: {instruction}\")\n",
    "    return position"
   ]
  },
  {
   "cell_type": "code",
   "execution_count": 69,
   "id": "af6e89a6",
   "metadata": {},
   "outputs": [],
   "source": [
    "def day2_1(instructions): return prod(navigate(instructions))"
   ]
  },
  {
   "cell_type": "code",
   "execution_count": 78,
   "id": "a088b439",
   "metadata": {},
   "outputs": [],
   "source": [
    "AimedPosition = namedtuple(\"AimedPosition\", [\"horizontal\", \"depth\", \"aim\"])\n",
    "\n",
    "def navigate_by_aim(instructions: list[str], position: AimedPosition = AimedPosition(0,0,0)) -> AimedPosition:\n",
    "    for instruction in instructions:\n",
    "        match instruction:\n",
    "            case [\"forward\", n]:\n",
    "                position = position._replace(\n",
    "                    horizontal=position.horizontal + int(n),\n",
    "                    depth=position.depth + int(n)*position.aim,\n",
    "                )\n",
    "            case [\"down\", n]:\n",
    "                position = position._replace(aim=position.aim + int(n))\n",
    "            case [\"up\", n]:\n",
    "                position = position._replace(aim=position.aim - int(n))\n",
    "            case _:\n",
    "                raise ValueError(f\"Unmatched instruction: {instruction}\")\n",
    "    return position"
   ]
  },
  {
   "cell_type": "code",
   "execution_count": 79,
   "id": "6a889d50",
   "metadata": {},
   "outputs": [],
   "source": [
    "def day2_2(instructions):\n",
    "    final_position = navigate_by_aim(instructions)\n",
    "    return final_position.horizontal * final_position.depth"
   ]
  },
  {
   "cell_type": "code",
   "execution_count": 80,
   "id": "c2c311f4",
   "metadata": {},
   "outputs": [
    {
     "data": {
      "text/plain": [
       "[1484118, 1463827010]"
      ]
     },
     "execution_count": 80,
     "metadata": {},
     "output_type": "execute_result"
    }
   ],
   "source": [
    "do(2, 1484118, 1463827010)"
   ]
  },
  {
   "cell_type": "code",
   "execution_count": null,
   "id": "a6d1e41a",
   "metadata": {},
   "outputs": [],
   "source": []
  }
 ],
 "metadata": {
  "kernelspec": {
   "display_name": "Python 3 (ipykernel)",
   "language": "python",
   "name": "python3"
  },
  "language_info": {
   "codemirror_mode": {
    "name": "ipython",
    "version": 3
   },
   "file_extension": ".py",
   "mimetype": "text/x-python",
   "name": "python",
   "nbconvert_exporter": "python",
   "pygments_lexer": "ipython3",
   "version": "3.10.0"
  }
 },
 "nbformat": 4,
 "nbformat_minor": 5
}
