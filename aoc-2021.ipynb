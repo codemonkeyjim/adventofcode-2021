{
 "cells": [
  {
   "cell_type": "markdown",
   "id": "9b28f125-69bc-4b4e-9618-26d46df65577",
   "metadata": {},
   "source": [
    "# Advent of Code 2021\n",
    "\n",
    "I really liked [Peter Norvig's approach](https://github.com/norvig/pytudes/blob/main/ipynb/Advent-2020.ipynb) to writing and tracking solutions, so I'm going to use his method this year."
   ]
  },
  {
   "cell_type": "markdown",
   "id": "04c9059b",
   "metadata": {},
   "source": [
    "## Day 0: Imports and Utility Functions\n",
    "\n",
    "Preparations prior to Day 1:\n",
    "\n",
    "- Some imports.\n",
    "- A way to read the day's data file and to print/check the output.\n",
    "- Some utilities that are likely to be useful.\n"
   ]
  },
  {
   "cell_type": "code",
   "execution_count": 3,
   "id": "7eddc7ef",
   "metadata": {},
   "outputs": [],
   "source": [
    "from collections import defaultdict, namedtuple\n",
    "from dataclasses import dataclass\n",
    "from itertools import chain\n",
    "from math import prod\n",
    "import operator\n",
    "from statistics import mean, median\n",
    "from typing import Callable"
   ]
  },
  {
   "cell_type": "code",
   "execution_count": 4,
   "id": "499a7739",
   "metadata": {},
   "outputs": [],
   "source": [
    "def data(day: int, parser=str, sep='\\n', filetype=\"input\") -> list:\n",
    "    \"Split the day's input file into sections separated by `sep`, and apply `parser` to each.\"\n",
    "    sections = open(f'data/advent2021/{filetype}{day}.txt').read().rstrip().split(sep)\n",
    "    return [parser(section) for section in sections]\n",
    "     \n",
    "def do(day, *answers) -> dict[int, int]:\n",
    "    \"E.g., do(3) returns {1: day3_1(in3), 2: day3_2(in3)}. Verifies `answers` if given.\"\n",
    "    g = globals()\n",
    "    got = []\n",
    "    for part in (1, 2):\n",
    "        fname = f'day{day}_{part}'\n",
    "        if fname in g: \n",
    "            got.append(g[fname](g[f'in{day}']))\n",
    "            if len(answers) >= part: \n",
    "                assert got[-1] == answers[part - 1], (\n",
    "                    f'{fname}(in{day}) got {got[-1]}; expected {answers[part - 1]}')\n",
    "    return got\n",
    "\n",
    "def first(iterable, default=None) -> object:\n",
    "    \"Return first item in iterable, or default.\"\n",
    "    return next(iter(iterable), default)\n",
    "\n",
    "def rest(sequence) -> object: return sequence[1:]"
   ]
  },
  {
   "cell_type": "code",
   "execution_count": 5,
   "id": "d8ff87f0",
   "metadata": {},
   "outputs": [],
   "source": [
    "def quantify(iterable, pred=bool) -> int:\n",
    "    \"Count the number of items in iterable for which pred is true.\"\n",
    "    return sum(1 for item in iterable if pred(item))\n",
    "\n",
    "def sliding_window(iterable, window_size) -> list:\n",
    "    for i in range(len(iterable) - window_size + 1):\n",
    "        yield iterable[i:i+window_size]"
   ]
  },
  {
   "cell_type": "markdown",
   "id": "9bc29e9f",
   "metadata": {},
   "source": [
    "## Day 1: Sonar Sweep\n",
    "\n",
    "1. How many measurements are larger than the previous measurement?\n",
    "2. Consider sums of a three-measurement sliding window. How many sums are larger than the previous sum?"
   ]
  },
  {
   "cell_type": "code",
   "execution_count": 6,
   "id": "08cb36d6",
   "metadata": {},
   "outputs": [],
   "source": [
    "in1 = data(1, parser=int)"
   ]
  },
  {
   "cell_type": "code",
   "execution_count": 7,
   "id": "842961ba",
   "metadata": {},
   "outputs": [],
   "source": [
    "def day1_1(depths):\n",
    "    return quantify(sliding_window(depths, 2), lambda window: window[1] > window[0])"
   ]
  },
  {
   "cell_type": "code",
   "execution_count": 8,
   "id": "60faa802",
   "metadata": {},
   "outputs": [],
   "source": [
    "def day1_2(depths):\n",
    "    sums = list(map(sum, sliding_window(depths, 3)))\n",
    "    return quantify(sliding_window(sums, 2), lambda window: window[1] > window[0])"
   ]
  },
  {
   "cell_type": "code",
   "execution_count": 9,
   "id": "84d7b616",
   "metadata": {},
   "outputs": [
    {
     "data": {
      "text/plain": [
       "[1121, 1065]"
      ]
     },
     "execution_count": 9,
     "metadata": {},
     "output_type": "execute_result"
    }
   ],
   "source": [
    "do(1, 1121, 1065)"
   ]
  },
  {
   "cell_type": "markdown",
   "id": "26ad935b",
   "metadata": {},
   "source": [
    "## Day 2: Dive!\n",
    "\n",
    "1. What do you get if you multiply your final horizontal position by your final depth?"
   ]
  },
  {
   "cell_type": "code",
   "execution_count": 10,
   "id": "1e4a0e49",
   "metadata": {},
   "outputs": [],
   "source": [
    "in2 = data(2, lambda line: line.split())"
   ]
  },
  {
   "cell_type": "code",
   "execution_count": 11,
   "id": "662c8b78",
   "metadata": {},
   "outputs": [],
   "source": [
    "Position = tuple[int, int]\n",
    "\n",
    "def move(position: Position, delta: Position) -> Position:\n",
    "    return Position(map(operator.add, position, delta))\n",
    "\n",
    "def navigate(instructions: list[str], position: Position = (0,0)) -> Position:\n",
    "    for instruction in instructions:\n",
    "        match instruction:\n",
    "            case [\"forward\", n]:\n",
    "                position = move(position, (int(n), 0))\n",
    "            case [\"down\", n]:\n",
    "                position = move(position, (0, int(n)))\n",
    "            case [\"up\", n]:\n",
    "                position = move(position, (0, -int(n)))\n",
    "            case _:\n",
    "                raise ValueError(f\"Unmatched instruction: {instruction}\")\n",
    "    return position"
   ]
  },
  {
   "cell_type": "code",
   "execution_count": 12,
   "id": "af6e89a6",
   "metadata": {},
   "outputs": [],
   "source": [
    "def day2_1(instructions): return prod(navigate(instructions))"
   ]
  },
  {
   "cell_type": "code",
   "execution_count": 13,
   "id": "a088b439",
   "metadata": {},
   "outputs": [],
   "source": [
    "AimedPosition = namedtuple(\"AimedPosition\", [\"horizontal\", \"depth\", \"aim\"])\n",
    "\n",
    "def navigate_by_aim(instructions: list[str], position: AimedPosition = AimedPosition(0,0,0)) -> AimedPosition:\n",
    "    for instruction in instructions:\n",
    "        match instruction:\n",
    "            case [\"forward\", n]:\n",
    "                position = position._replace(\n",
    "                    horizontal=position.horizontal + int(n),\n",
    "                    depth=position.depth + int(n)*position.aim,\n",
    "                )\n",
    "            case [\"down\", n]:\n",
    "                position = position._replace(aim=position.aim + int(n))\n",
    "            case [\"up\", n]:\n",
    "                position = position._replace(aim=position.aim - int(n))\n",
    "            case _:\n",
    "                raise ValueError(f\"Unmatched instruction: {instruction}\")\n",
    "    return position"
   ]
  },
  {
   "cell_type": "code",
   "execution_count": 14,
   "id": "6a889d50",
   "metadata": {},
   "outputs": [],
   "source": [
    "def day2_2(instructions):\n",
    "    final_position = navigate_by_aim(instructions)\n",
    "    return final_position.horizontal * final_position.depth"
   ]
  },
  {
   "cell_type": "code",
   "execution_count": 15,
   "id": "c2c311f4",
   "metadata": {},
   "outputs": [
    {
     "data": {
      "text/plain": [
       "[1484118, 1463827010]"
      ]
     },
     "execution_count": 15,
     "metadata": {},
     "output_type": "execute_result"
    }
   ],
   "source": [
    "do(2, 1484118, 1463827010)"
   ]
  },
  {
   "cell_type": "markdown",
   "id": "a6d1e41a",
   "metadata": {},
   "source": [
    "## Day 3: Binary Diagnostic\n",
    "\n",
    "Power consumption is gamma rate times epsilon rate, where the gamma rate is the most common bit setting by position in the input and the epsilon rate is the least common bit setting (the bitwise negation).\n",
    "\n",
    "Life support rating is oxygen generator rating times CO2 scrubber rating. These ratings are found by progressively filtering the list of values to only those with the most/least common bit in the nth position based on the previous bit filtering.\n",
    "\n",
    "1. What is the power consumption of the submarine?\n",
    "2. What is the life support rating of the submarine?"
   ]
  },
  {
   "cell_type": "code",
   "execution_count": 16,
   "id": "71aea0c1",
   "metadata": {},
   "outputs": [],
   "source": [
    "Bitlist = list[int]\n",
    "\n",
    "def most_common_bits(readings: list[str]) -> Bitlist:\n",
    "    rate = [0] * len(readings[0])\n",
    "    for reading in readings:\n",
    "        for i, bit in enumerate(reading):\n",
    "            rate[i] += 1 if bit == \"1\" else -1\n",
    "    return list(map(lambda bit: int(bit >= 0), rate))\n",
    "\n",
    "def least_common_bits(readings: list[str]) -> Bitlist:\n",
    "    rate = [0] * len(readings[0])\n",
    "    for reading in readings:\n",
    "        for i, bit in enumerate(reading):\n",
    "            rate[i] += 1 if bit == \"1\" else -1\n",
    "    return list(map(lambda bit: int(bit < 0), rate))\n",
    "\n",
    "def bitlist_to_int(bitlist: Bitlist) -> int:\n",
    "    val = 0\n",
    "    for i, bit in enumerate(reversed(bitlist)):\n",
    "        val += bit * 2**i\n",
    "    return val\n",
    "\n",
    "def toggle(bitlist: Bitlist) -> Bitlist:\n",
    "    return list(map(lambda x: 0 if x else 1, bitlist))"
   ]
  },
  {
   "cell_type": "code",
   "execution_count": 17,
   "id": "11b73c89",
   "metadata": {},
   "outputs": [],
   "source": [
    "in3 = data(3)"
   ]
  },
  {
   "cell_type": "code",
   "execution_count": 18,
   "id": "c5fb213f",
   "metadata": {},
   "outputs": [],
   "source": [
    "def day3_1(readings):\n",
    "    gamma = most_common_bits(readings)\n",
    "    epsilon = least_common_bits(readings)\n",
    "    return bitlist_to_int(gamma) * bitlist_to_int(epsilon)"
   ]
  },
  {
   "cell_type": "code",
   "execution_count": 19,
   "id": "007834bc",
   "metadata": {},
   "outputs": [],
   "source": [
    "def filter_bits(readings: list[str], filter_fn: Callable[[list[str]], int]) -> int:\n",
    "    filtered = readings\n",
    "    for i in range(len(readings[0])):\n",
    "        filter_bits = filter_fn(filtered)\n",
    "        filtered = list(filter(lambda reading: int(reading[i]) == filter_bits[i], filtered))\n",
    "        if len(filtered) == 1:\n",
    "            break\n",
    "    assert len(filtered) == 1\n",
    "    return int(filtered[0], base=2)\n",
    "\n",
    "def o2_rating(readings: list[str]) -> int: return filter_bits(readings, most_common_bits)\n",
    "def co2_rating(readings: list[str]) -> int: return filter_bits(readings, least_common_bits)\n",
    "\n"
   ]
  },
  {
   "cell_type": "code",
   "execution_count": 20,
   "id": "ce0c3dd2",
   "metadata": {},
   "outputs": [],
   "source": [
    "sample3 = [\n",
    "    '00100',\n",
    "    '11110',\n",
    "    '10110',\n",
    "    '10111',\n",
    "    '10101',\n",
    "    '01111',\n",
    "    '00111',\n",
    "    '11100',\n",
    "    '10000',\n",
    "    '11001',\n",
    "    '00010',\n",
    "    '01010',\n",
    "]\n",
    "assert o2_rating(sample3) == 23\n",
    "assert co2_rating(sample3) == 10"
   ]
  },
  {
   "cell_type": "code",
   "execution_count": 21,
   "id": "e2d1a289",
   "metadata": {},
   "outputs": [],
   "source": [
    "def day3_2(readings): return o2_rating(readings) * co2_rating(readings)"
   ]
  },
  {
   "cell_type": "code",
   "execution_count": 22,
   "id": "a0482c0b",
   "metadata": {},
   "outputs": [
    {
     "data": {
      "text/plain": [
       "[3429254, 5410338]"
      ]
     },
     "execution_count": 22,
     "metadata": {},
     "output_type": "execute_result"
    }
   ],
   "source": [
    "do(3, 3429254, 5410338)"
   ]
  },
  {
   "cell_type": "markdown",
   "id": "c412101c",
   "metadata": {},
   "source": [
    "## Day 4: Giant Squid\n",
    "\n",
    "If all numbers in any row or any column of a board are marked, that board wins. (Diagonals don't count.)\n",
    "\n",
    "The score of the winning board is the sum of all unmarked numbers on that board times the number that was just called when the board won.\n",
    "\n",
    "1. To guarantee victory against the giant squid, figure out which board will win first. What will your final score be if you choose that board?\n",
    "2. Figure out which board will win last. Once it wins, what would its final score be?"
   ]
  },
  {
   "cell_type": "code",
   "execution_count": 23,
   "id": "11108f5c",
   "metadata": {},
   "outputs": [],
   "source": [
    "BingoBoard = list[int]\n",
    "\n",
    "def board_to_list(board: list[str]) -> BingoBoard:\n",
    "    \"\"\"\n",
    "    Convert 2-D board as list of strings to a 1-D list of ints\n",
    "    \"\"\"\n",
    "    return list(chain(*[list(map(int, row.split())) for row in board]))\n",
    "in4 = data(4, parser=str.splitlines, sep=\"\\n\\n\")\n"
   ]
  },
  {
   "cell_type": "code",
   "execution_count": 24,
   "id": "7a616d0e",
   "metadata": {},
   "outputs": [],
   "source": [
    "BOARD_DIM = 5\n",
    "def is_winner(board: BingoBoard) -> bool:\n",
    "    for i in range(BOARD_DIM):\n",
    "        if all(square is None for square in board[i*BOARD_DIM:(i+1)*BOARD_DIM]) or all(square is None for square in board[i::BOARD_DIM]):\n",
    "            return True\n",
    "    return False"
   ]
  },
  {
   "cell_type": "code",
   "execution_count": 25,
   "id": "96fdf806",
   "metadata": {},
   "outputs": [],
   "source": [
    "test_board = list(range(1, BOARD_DIM**2 + 1))\n",
    "winning_row = test_board.copy()\n",
    "winning_row[0:BOARD_DIM] = [None] * BOARD_DIM\n",
    "winning_col = test_board.copy()\n",
    "winning_col[0::BOARD_DIM] = [None] * BOARD_DIM\n",
    "\n",
    "assert not is_winner(test_board)\n",
    "assert is_winner(winning_row)\n",
    "assert is_winner(winning_col)"
   ]
  },
  {
   "cell_type": "code",
   "execution_count": 26,
   "id": "2951e574",
   "metadata": {},
   "outputs": [],
   "source": [
    "def print_board(board):\n",
    "    for i in range(BOARD_DIM):\n",
    "        row = [board[i*BOARD_DIM+j] for j in range(BOARD_DIM)]\n",
    "        print(row)\n",
    "\n",
    "def day4_1(lines: list[str]) -> int:\n",
    "    draws = list(map(int, first(lines)[0].split(\",\")))\n",
    "    boards = list(map(board_to_list, rest(lines)))\n",
    "    for draw in draws:\n",
    "        for board in boards:\n",
    "            try:\n",
    "                board[board.index(draw)] = None\n",
    "            except ValueError:\n",
    "                pass\n",
    "            if is_winner(board):\n",
    "                return sum([square for square in board if square is not None]) * draw\n"
   ]
  },
  {
   "cell_type": "code",
   "execution_count": 27,
   "id": "3ba66740",
   "metadata": {},
   "outputs": [],
   "source": [
    "def day4_2(lines: list[str]) -> int:\n",
    "    draws = list(map(int, first(lines)[0].split(\",\")))\n",
    "    boards = list(map(board_to_list, rest(lines)))\n",
    "    for draw in draws:\n",
    "        winners = []\n",
    "        for board in boards:\n",
    "            try:\n",
    "                board[board.index(draw)] = None\n",
    "            except ValueError:\n",
    "                pass\n",
    "            if is_winner(board):\n",
    "                winners.append(board)\n",
    "        for winner in winners:\n",
    "            boards.remove(winner)\n",
    "        if len(boards) == 0:\n",
    "            return sum([square for square in winners[0] if square is not None]) * draw\n",
    "\n"
   ]
  },
  {
   "cell_type": "code",
   "execution_count": 28,
   "id": "e80c82b4",
   "metadata": {},
   "outputs": [
    {
     "data": {
      "text/plain": [
       "[27027, 36975]"
      ]
     },
     "execution_count": 28,
     "metadata": {},
     "output_type": "execute_result"
    }
   ],
   "source": [
    "do(4, 27027, 36975)\n",
    "# 5120 is too low"
   ]
  },
  {
   "cell_type": "markdown",
   "id": "e66643fa",
   "metadata": {},
   "source": [
    "## Day 5: Hydrothermal Venture\n",
    "\n",
    "Each line of vents is given as a line segment in the format x1,y1 -> x2,y2 inclusive.\n",
    "\n",
    "1. Consider only horizontal and vertical lines. At how many points do at least two lines overlap?\n",
    "2. Consider all lines (horizontal, vertical, and 45° diagonal). At how many points do at least two lines overlap?"
   ]
  },
  {
   "cell_type": "code",
   "execution_count": 66,
   "id": "8e885523",
   "metadata": {},
   "outputs": [],
   "source": [
    "@dataclass\n",
    "class Point:\n",
    "    x: int\n",
    "    y: int\n",
    "\n",
    "    def __hash__(self):\n",
    "        return (self.x, self.y).__hash__()\n",
    "\n",
    "    def __repr__(self):\n",
    "        return f\"({self.x}, {self.y})\"\n",
    "\n",
    "@dataclass\n",
    "class Line:\n",
    "    start: Point\n",
    "    end: Point"
   ]
  },
  {
   "cell_type": "code",
   "execution_count": 30,
   "id": "cab2016d",
   "metadata": {},
   "outputs": [],
   "source": [
    "def str_to_line(input: str) -> Line:\n",
    "    points = []\n",
    "    for coords in input.split(\" -> \"):\n",
    "        points.append(Point(*list(map(int, coords.split(\",\")))))\n",
    "    return Line(*points)\n",
    "\n",
    "in5 = data(5, parser=str_to_line)\n"
   ]
  },
  {
   "cell_type": "code",
   "execution_count": 31,
   "id": "033e7253",
   "metadata": {},
   "outputs": [],
   "source": [
    "def print_grid(grid: dict[Point, int]):\n",
    "    for y in range(max([point.y for point in grid.keys()]) + 1):\n",
    "        for x in range(max([point.x for point in grid.keys()]) + 1):\n",
    "            print(grid.get(Point(x, y), \".\"),end=\"\")\n",
    "        print(\"\")\n",
    "\n",
    "def day5_1(lines: list[Line], do_diagonal=False) -> int:\n",
    "    grid = defaultdict(int)\n",
    "    for line in lines:\n",
    "        if line.start.x == line.end.x:\n",
    "            for y in range(min(line.start.y, line.end.y), max(line.start.y, line.end.y) + 1):\n",
    "                grid[Point(line.start.x, y)] += 1\n",
    "        elif line.start.y == line.end.y:\n",
    "            for x in range(min(line.start.x, line.end.x), max(line.start.x, line.end.x) + 1):\n",
    "                grid[Point(x, line.start.y)] += 1\n",
    "        elif do_diagonal:\n",
    "            x_dir = 1 if line.start.x < line.end.x else -1\n",
    "            y_dir = 1 if line.start.y < line.end.y else -1\n",
    "            current = Point(line.start.x, line.start.y)\n",
    "            grid[current] += 1\n",
    "            while current != line.end:\n",
    "                current = Point(current.x + x_dir, current.y + y_dir)\n",
    "                grid[current] += 1\n",
    "    # print_grid(grid)\n",
    "    return quantify(grid.values(), lambda x: x >= 2)\n",
    "\n",
    "def day5_2(lines: list[Line]): return day5_1(lines, do_diagonal=True)"
   ]
  },
  {
   "cell_type": "code",
   "execution_count": 32,
   "id": "035892ab",
   "metadata": {},
   "outputs": [],
   "source": [
    "sample5 = data(5, parser=str_to_line, filetype=\"sample\")\n",
    "assert day5_1(sample5) == 5\n",
    "assert day5_2(sample5) == 12"
   ]
  },
  {
   "cell_type": "code",
   "execution_count": 33,
   "id": "620adb56",
   "metadata": {},
   "outputs": [
    {
     "data": {
      "text/plain": [
       "[5632, 22213]"
      ]
     },
     "execution_count": 33,
     "metadata": {},
     "output_type": "execute_result"
    }
   ],
   "source": [
    "do(5, 5632, 22213)"
   ]
  },
  {
   "cell_type": "markdown",
   "id": "28258e47",
   "metadata": {},
   "source": [
    "## Day 6: Lanternfish\n",
    "\n",
    "Each lanternfish produces a new lanternfish every 6 days, except the first time, which takes 2 days longer.\n",
    "\n",
    "1. How many lanternfish would there be after 80 days?\n",
    "2. How many lanternfish would there be after 256 days?"
   ]
  },
  {
   "cell_type": "code",
   "execution_count": 34,
   "id": "5c8857f5",
   "metadata": {},
   "outputs": [],
   "source": [
    "in6 = data(6, sep=\",\", parser=int)"
   ]
  },
  {
   "cell_type": "code",
   "execution_count": 35,
   "id": "97d395fc",
   "metadata": {},
   "outputs": [],
   "source": [
    "def sim_lanternfish(initial_state: list[int], spawn_rate: int, initial_spawn_rate: int, days: int) -> dict[int, int]:\n",
    "    max_spawn_rate = max(spawn_rate, initial_spawn_rate)\n",
    "    state = {k: 0 for k in range(max_spawn_rate+1)}\n",
    "    for fish in initial_state:\n",
    "        state[fish] = state.get(fish, 0) + 1\n",
    "    \n",
    "    for _ in range(days):\n",
    "        new_state = {k: 0 for k in range(max_spawn_rate+1)}\n",
    "        new_state[initial_spawn_rate] = state.get(0, 0)\n",
    "        for timer in range(1, max_spawn_rate+1):\n",
    "            new_state[timer-1] = state.get(timer, 0)\n",
    "        new_state[spawn_rate] += state[0]\n",
    "        state = new_state\n",
    "\n",
    "    return state"
   ]
  },
  {
   "cell_type": "code",
   "execution_count": 36,
   "id": "de78661d",
   "metadata": {},
   "outputs": [],
   "source": [
    "def day6_1(state): return sum(sim_lanternfish(state, spawn_rate=6, initial_spawn_rate=8, days=80).values())"
   ]
  },
  {
   "cell_type": "code",
   "execution_count": 37,
   "id": "3e6d2fed",
   "metadata": {},
   "outputs": [],
   "source": [
    "def day6_2(state): return sum(sim_lanternfish(state, spawn_rate=6, initial_spawn_rate=8, days=256).values())"
   ]
  },
  {
   "cell_type": "code",
   "execution_count": 38,
   "id": "b46e91d8",
   "metadata": {},
   "outputs": [
    {
     "data": {
      "text/plain": [
       "[379114, 1702631502303]"
      ]
     },
     "execution_count": 38,
     "metadata": {},
     "output_type": "execute_result"
    }
   ],
   "source": [
    "do(6, 379114, 1702631502303)"
   ]
  },
  {
   "cell_type": "markdown",
   "id": "170abee4",
   "metadata": {},
   "source": [
    "## Day 7: The Treachery of Whales\n",
    "\n",
    "We have a bunch of crabs that can only move left and right on a line.\n",
    "\n",
    "1. Each step costs one unit of fuel. Determine the horizontal position that the crabs can align to using the least fuel possible. How much fuel must they spend to align to that position?\n",
    "2. Each step costs one more unit of fuel than the previous step. Determine the horizontal position that the crabs can align to using the least fuel possible. How much fuel must they spend to align to that position?"
   ]
  },
  {
   "cell_type": "code",
   "execution_count": 39,
   "id": "484362f2",
   "metadata": {},
   "outputs": [],
   "source": [
    "in7 = data(7, parser=int, sep=\",\")"
   ]
  },
  {
   "cell_type": "code",
   "execution_count": 40,
   "id": "a2567bf7",
   "metadata": {},
   "outputs": [],
   "source": [
    "def constant_total_fuel(crabs: list[int], target: int) -> int: return sum(map(lambda crab: abs(crab-target), crabs))\n",
    "\n",
    "def triangular_number(n: int) -> int: return n * (n+1) / 2\n",
    "\n",
    "def linear_total_fuel(crabs: list[int], target: int) -> int: return int(sum(map(lambda crab: triangular_number(abs(crab-target)), crabs)))\n",
    "\n",
    "def day7_1(crabs: list[int]) -> int: return constant_total_fuel(crabs, int(median(crabs)))\n",
    "\n",
    "def day7_2(crabs: list[int]) -> int: return linear_total_fuel(crabs, int(mean(crabs)))"
   ]
  },
  {
   "cell_type": "code",
   "execution_count": 41,
   "id": "fdf920f8",
   "metadata": {},
   "outputs": [
    {
     "data": {
      "text/plain": [
       "[335330, 92439766]"
      ]
     },
     "execution_count": 41,
     "metadata": {},
     "output_type": "execute_result"
    }
   ],
   "source": [
    "do(7, 335330, 92439766)\n"
   ]
  },
  {
   "cell_type": "markdown",
   "id": "72453cab",
   "metadata": {},
   "source": [
    "## Day 8: Seven Segment Search\n",
    "\n",
    "We're trying to interpret seven-segment displays. The input lines are ten unique input digits, a pipe, and four output digits. The segments that correspond to each letter are consistent within a line, but random from one line to the next.\n",
    "\n",
    "```text\n",
    "  0:      1:      2:      3:      4:\n",
    " aaaa    ....    aaaa    aaaa    ....\n",
    "b    c  .    c  .    c  .    c  b    c\n",
    "b    c  .    c  .    c  .    c  b    c\n",
    " ....    ....    dddd    dddd    dddd\n",
    "e    f  .    f  e    .  .    f  .    f\n",
    "e    f  .    f  e    .  .    f  .    f\n",
    " gggg    ....    gggg    gggg    ....\n",
    "\n",
    "  5:      6:      7:      8:      9:\n",
    " aaaa    aaaa    aaaa    aaaa    aaaa\n",
    "b    .  b    .  .    c  b    c  b    c\n",
    "b    .  b    .  .    c  b    c  b    c\n",
    " dddd    dddd    ....    dddd    dddd\n",
    ".    f  e    f  .    f  e    f  .    f\n",
    ".    f  e    f  .    f  e    f  .    f\n",
    " gggg    gggg    ....    gggg    gggg\n",
    "```\n",
    "\n",
    "1. **For now, focus on the easy digits.** In the output values, how many times do digits `1`, `4`, `7`, or `8` appear?"
   ]
  },
  {
   "cell_type": "code",
   "execution_count": 42,
   "id": "f9a8da29",
   "metadata": {},
   "outputs": [],
   "source": [
    "Digit = set[str]\n",
    "\n",
    "def digit_to_str(digit: Digit) -> str: return ''.join(sorted(digit))\n",
    "\n",
    "@dataclass\n",
    "class Display:\n",
    "    in_digits: list[Digit]\n",
    "    out_digits: list[Digit]\n",
    "\n",
    "def parser8(line: str) -> Display:\n",
    "    in_str, out_str = line.split('|')\n",
    "    return Display(in_digits=[set(x) for x in in_str.split()], out_digits=[set(x) for x in out_str.split()])\n",
    "\n",
    "in8 = data(8, parser=parser8)"
   ]
  },
  {
   "cell_type": "code",
   "execution_count": 43,
   "id": "689446d2",
   "metadata": {},
   "outputs": [],
   "source": [
    "def day8_1(displays: list[Display]) -> int:\n",
    "    return quantify([digit for display in in8 for digit in display.out_digits], lambda digit: len(digit) in [2,3,4,7])"
   ]
  },
  {
   "cell_type": "code",
   "execution_count": 44,
   "id": "9abb5d13",
   "metadata": {},
   "outputs": [],
   "source": [
    "def decode_display(display: Display) -> int:\n",
    "    knowns = {}\n",
    "    unknowns = display.in_digits.copy()\n",
    "    for k,v in {'8': 7, '4': 4, '7': 3, '1': 2}.items():\n",
    "        knowns[k] = next(digit for digit in unknowns if len(digit) == v)\n",
    "        unknowns.remove(knowns[k])\n",
    "\n",
    "    a = knowns['7'] - knowns['1']\n",
    "    partial = knowns['4'] | a\n",
    "    knowns['9'] = next(digit for digit in unknowns if partial < digit)\n",
    "    unknowns.remove(knowns['9'])\n",
    "\n",
    "    e = knowns['8'] - knowns['9']\n",
    "    partial = knowns['9'] - knowns['1'] | e\n",
    "    knowns['6'] = next(digit for digit in unknowns if partial < digit)\n",
    "    unknowns.remove(knowns['6'])\n",
    "\n",
    "    knowns['0'] = next(digit for digit in unknowns if len(digit) == 6)\n",
    "    unknowns.remove(knowns['0'])\n",
    "\n",
    "    knowns['5'] = knowns['6'] - e\n",
    "    unknowns.remove(knowns['5'])\n",
    "\n",
    "    knowns['3'] = next(digit for digit in unknowns if knowns['1'] < digit)\n",
    "    unknowns.remove(knowns['3'])\n",
    "\n",
    "    assert len(unknowns) == 1\n",
    "    knowns['2'] = unknowns[0]\n",
    "\n",
    "    digits = {digit_to_str(v): k for k, v in knowns.items()}\n",
    "    return int(''.join([digits[digit_to_str(digit)] for digit in display.out_digits]))\n",
    "\n",
    "def day8_2(displays: list[Display]) -> int: return sum([decode_display(display) for display in displays])"
   ]
  },
  {
   "cell_type": "code",
   "execution_count": 45,
   "id": "5eaffef9",
   "metadata": {},
   "outputs": [],
   "source": [
    "assert day8_2(data(8, filetype='sample', parser=parser8)) == 61229"
   ]
  },
  {
   "cell_type": "code",
   "execution_count": 46,
   "id": "8e1e7c42",
   "metadata": {},
   "outputs": [
    {
     "data": {
      "text/plain": [
       "[284, 973499]"
      ]
     },
     "execution_count": 46,
     "metadata": {},
     "output_type": "execute_result"
    }
   ],
   "source": [
    "do(8, 284, 973499)"
   ]
  },
  {
   "cell_type": "markdown",
   "id": "de0b377d",
   "metadata": {},
   "source": [
    "## Day 9: Smoke Basin\n",
    "\n",
    "Each cell in the grid is the height of that point (0-9). A low point is a point that's lower than the four points around it (not diagonals). The risk level of a point is its height + 1.\n",
    "\n",
    "A basin is all the points less than height 9 that are connected to a low point.\n",
    "\n",
    "1. What is the sum of the risk levels of all low points on your heightmap?\n",
    "2. What do you get if you multiply together the sizes of the three largest basins?\n"
   ]
  },
  {
   "cell_type": "code",
   "execution_count": 47,
   "id": "860534df",
   "metadata": {},
   "outputs": [],
   "source": [
    "def parser9(line: str) -> list[int]: return list(map(int, line))\n",
    "\n",
    "in9 = data(9, parser=parser9)"
   ]
  },
  {
   "cell_type": "code",
   "execution_count": 49,
   "id": "27562fc4",
   "metadata": {},
   "outputs": [],
   "source": [
    "Grid = list[list[int]]\n",
    "\n",
    "def neighbors(grid: Grid, point: Point) -> list[Point]:\n",
    "    ret = []\n",
    "    x, y = point.x, point.y\n",
    "    for x_, y_ in [(x-1, y), (x+1, y), (x, y-1), (x, y+1)]:\n",
    "        if 0 <= y_ < len(grid) and 0 <= x_ < len(grid[y_]):\n",
    "            ret.append(Point(x_, y_))\n",
    "    return ret\n",
    "\n",
    "def lowest_points(grid: Grid) -> list[Point]:\n",
    "    mins = []\n",
    "    for y in range(len(grid)):\n",
    "        for x in range(len(grid[y])):\n",
    "            if grid[y][x] < min(map(lambda pt: grid[pt.y][pt.x], neighbors(grid, Point(x, y)))):\n",
    "                mins.append(Point(x, y))\n",
    "    return mins\n",
    "\n",
    "def day9_1(grid: Grid) -> int:\n",
    "    lows = lowest_points(grid)\n",
    "    return sum([grid[low.y][low.x] for low in lows]) + len(lows)"
   ]
  },
  {
   "cell_type": "code",
   "execution_count": 50,
   "id": "4827d5da",
   "metadata": {},
   "outputs": [],
   "source": [
    "assert day9_1(data(9, parser=parser9, filetype=\"sample\")) == 15"
   ]
  },
  {
   "cell_type": "code",
   "execution_count": 83,
   "id": "b2975f2d",
   "metadata": {},
   "outputs": [],
   "source": [
    "def find_basin(grid: Grid, origin: Point) -> list[Point]:\n",
    "    basin = {origin}\n",
    "    processed = set()\n",
    "    to_process = neighbors(grid, origin)\n",
    "    while to_process:\n",
    "        point = to_process.pop()\n",
    "        processed.add(point)\n",
    "        if point in basin:\n",
    "            continue\n",
    "        if grid[point.y][point.x] < 9:\n",
    "            basin.add(point)\n",
    "            for neighbor in filter(lambda nbr: nbr not in processed, neighbors(grid, point)):\n",
    "                to_process.append(neighbor)\n",
    "    return list(basin)\n",
    "\n",
    "def day9_2(grid: Grid) -> int:\n",
    "    lows = lowest_points(grid)\n",
    "    basins = [find_basin(grid, low) for low in lows]\n",
    "    return prod(sorted(map(len, basins), reverse=True)[0:3])"
   ]
  },
  {
   "cell_type": "code",
   "execution_count": 84,
   "id": "9dcd3dd0",
   "metadata": {},
   "outputs": [],
   "source": [
    "assert day9_2(data(9, parser=parser9, filetype=\"sample\")) == 1134"
   ]
  },
  {
   "cell_type": "code",
   "execution_count": 85,
   "id": "40183464",
   "metadata": {},
   "outputs": [
    {
     "data": {
      "text/plain": [
       "[633, 1050192]"
      ]
     },
     "execution_count": 85,
     "metadata": {},
     "output_type": "execute_result"
    }
   ],
   "source": [
    "do(9, 633, 1050192)"
   ]
  },
  {
   "cell_type": "code",
   "execution_count": null,
   "id": "b6a17a63",
   "metadata": {},
   "outputs": [],
   "source": []
  }
 ],
 "metadata": {
  "kernelspec": {
   "display_name": "Python 3 (ipykernel)",
   "language": "python",
   "name": "python3"
  },
  "language_info": {
   "codemirror_mode": {
    "name": "ipython",
    "version": 3
   },
   "file_extension": ".py",
   "mimetype": "text/x-python",
   "name": "python",
   "nbconvert_exporter": "python",
   "pygments_lexer": "ipython3",
   "version": "3.10.0"
  }
 },
 "nbformat": 4,
 "nbformat_minor": 5
}
