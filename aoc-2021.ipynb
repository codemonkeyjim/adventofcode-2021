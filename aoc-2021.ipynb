{
 "cells": [
  {
   "cell_type": "markdown",
   "id": "9b28f125-69bc-4b4e-9618-26d46df65577",
   "metadata": {},
   "source": [
    "# Advent of Code 2021\n",
    "\n",
    "I really liked [Peter Norvig's approach](https://github.com/norvig/pytudes/blob/main/ipynb/Advent-2020.ipynb) to writing and tracking solutions, so I'm going to use his method this year."
   ]
  },
  {
   "cell_type": "markdown",
   "id": "04c9059b",
   "metadata": {},
   "source": [
    "## Day 0: Imports and Utility Functions\n",
    "\n",
    "Preparations prior to Day 1:\n",
    "\n",
    "- Some imports.\n",
    "- A way to read the day's data file and to print/check the output.\n",
    "- Some utilities that are likely to be useful.\n"
   ]
  },
  {
   "cell_type": "code",
   "execution_count": 335,
   "id": "7eddc7ef",
   "metadata": {},
   "outputs": [],
   "source": [
    "from __future__ import annotations\n",
    "from collections import Counter, defaultdict, namedtuple\n",
    "from dataclasses import dataclass\n",
    "from functools import reduce\n",
    "from itertools import chain\n",
    "from math import prod\n",
    "import operator\n",
    "from queue import PriorityQueue\n",
    "from statistics import mean, median\n",
    "from typing import Callable"
   ]
  },
  {
   "cell_type": "code",
   "execution_count": 14,
   "id": "499a7739",
   "metadata": {},
   "outputs": [],
   "source": [
    "def data(day: int, parser=str, sep='\\n', filetype=\"input\") -> list:\n",
    "    \"Split the day's input file into sections separated by `sep`, and apply `parser` to each.\"\n",
    "    sections = open(f'data/advent2021/{filetype}{day}.txt').read().rstrip().split(sep)\n",
    "    return [parser(section) for section in sections]\n",
    "     \n",
    "def do(day, *answers) -> dict[int, int]:\n",
    "    \"E.g., do(3) returns {1: day3_1(in3), 2: day3_2(in3)}. Verifies `answers` if given.\"\n",
    "    g = globals()\n",
    "    got = []\n",
    "    for part in (1, 2):\n",
    "        fname = f'day{day}_{part}'\n",
    "        if fname in g: \n",
    "            got.append(g[fname](g[f'in{day}']))\n",
    "            if len(answers) >= part: \n",
    "                assert got[-1] == answers[part - 1], (\n",
    "                    f'{fname}(in{day}) got {got[-1]}; expected {answers[part - 1]}')\n",
    "    return got\n",
    "\n",
    "def by_line(text: str) -> list[str]:\n",
    "    \"Split the text into a list of lines.\"\n",
    "    return text.strip().splitlines()\n",
    "\n",
    "def first(iterable, default=None) -> object:\n",
    "    \"Return first item in iterable, or default.\"\n",
    "    return next(iter(iterable), default)\n",
    "\n",
    "def rest(sequence) -> object: return sequence[1:]"
   ]
  },
  {
   "cell_type": "code",
   "execution_count": 15,
   "id": "d8ff87f0",
   "metadata": {},
   "outputs": [],
   "source": [
    "def quantify(iterable, pred=bool) -> int:\n",
    "    \"Count the number of items in iterable for which pred is true.\"\n",
    "    return sum(1 for item in iterable if pred(item))\n",
    "\n",
    "def sliding_window(iterable, window_size) -> list:\n",
    "    for i in range(len(iterable) - window_size + 1):\n",
    "        yield iterable[i:i+window_size]"
   ]
  },
  {
   "cell_type": "markdown",
   "id": "9bc29e9f",
   "metadata": {},
   "source": [
    "## Day 1: Sonar Sweep\n",
    "\n",
    "1. How many measurements are larger than the previous measurement?\n",
    "2. Consider sums of a three-measurement sliding window. How many sums are larger than the previous sum?"
   ]
  },
  {
   "cell_type": "code",
   "execution_count": 16,
   "id": "08cb36d6",
   "metadata": {},
   "outputs": [],
   "source": [
    "in1 = data(1, parser=int)"
   ]
  },
  {
   "cell_type": "code",
   "execution_count": 17,
   "id": "842961ba",
   "metadata": {},
   "outputs": [],
   "source": [
    "def day1_1(depths):\n",
    "    return quantify(sliding_window(depths, 2), lambda window: window[1] > window[0])"
   ]
  },
  {
   "cell_type": "code",
   "execution_count": 18,
   "id": "60faa802",
   "metadata": {},
   "outputs": [],
   "source": [
    "def day1_2(depths):\n",
    "    sums = list(map(sum, sliding_window(depths, 3)))\n",
    "    return quantify(sliding_window(sums, 2), lambda window: window[1] > window[0])"
   ]
  },
  {
   "cell_type": "code",
   "execution_count": 19,
   "id": "84d7b616",
   "metadata": {},
   "outputs": [
    {
     "data": {
      "text/plain": [
       "[1121, 1065]"
      ]
     },
     "execution_count": 19,
     "metadata": {},
     "output_type": "execute_result"
    }
   ],
   "source": [
    "do(1, 1121, 1065)"
   ]
  },
  {
   "cell_type": "markdown",
   "id": "26ad935b",
   "metadata": {},
   "source": [
    "## Day 2: Dive!\n",
    "\n",
    "1. What do you get if you multiply your final horizontal position by your final depth?"
   ]
  },
  {
   "cell_type": "code",
   "execution_count": 20,
   "id": "1e4a0e49",
   "metadata": {},
   "outputs": [],
   "source": [
    "in2 = data(2, lambda line: line.split())"
   ]
  },
  {
   "cell_type": "code",
   "execution_count": 21,
   "id": "662c8b78",
   "metadata": {},
   "outputs": [],
   "source": [
    "Position = tuple[int, int]\n",
    "\n",
    "def move(position: Position, delta: Position) -> Position:\n",
    "    return Position(map(operator.add, position, delta))\n",
    "\n",
    "def navigate(instructions: list[str], position: Position = (0,0)) -> Position:\n",
    "    for instruction in instructions:\n",
    "        match instruction:\n",
    "            case [\"forward\", n]:\n",
    "                position = move(position, (int(n), 0))\n",
    "            case [\"down\", n]:\n",
    "                position = move(position, (0, int(n)))\n",
    "            case [\"up\", n]:\n",
    "                position = move(position, (0, -int(n)))\n",
    "            case _:\n",
    "                raise ValueError(f\"Unmatched instruction: {instruction}\")\n",
    "    return position"
   ]
  },
  {
   "cell_type": "code",
   "execution_count": 22,
   "id": "af6e89a6",
   "metadata": {},
   "outputs": [],
   "source": [
    "def day2_1(instructions): return prod(navigate(instructions))"
   ]
  },
  {
   "cell_type": "code",
   "execution_count": 23,
   "id": "a088b439",
   "metadata": {},
   "outputs": [],
   "source": [
    "AimedPosition = namedtuple(\"AimedPosition\", [\"horizontal\", \"depth\", \"aim\"])\n",
    "\n",
    "def navigate_by_aim(instructions: list[str], position: AimedPosition = AimedPosition(0,0,0)) -> AimedPosition:\n",
    "    for instruction in instructions:\n",
    "        match instruction:\n",
    "            case [\"forward\", n]:\n",
    "                position = position._replace(\n",
    "                    horizontal=position.horizontal + int(n),\n",
    "                    depth=position.depth + int(n)*position.aim,\n",
    "                )\n",
    "            case [\"down\", n]:\n",
    "                position = position._replace(aim=position.aim + int(n))\n",
    "            case [\"up\", n]:\n",
    "                position = position._replace(aim=position.aim - int(n))\n",
    "            case _:\n",
    "                raise ValueError(f\"Unmatched instruction: {instruction}\")\n",
    "    return position"
   ]
  },
  {
   "cell_type": "code",
   "execution_count": 24,
   "id": "6a889d50",
   "metadata": {},
   "outputs": [],
   "source": [
    "def day2_2(instructions):\n",
    "    final_position = navigate_by_aim(instructions)\n",
    "    return final_position.horizontal * final_position.depth"
   ]
  },
  {
   "cell_type": "code",
   "execution_count": 25,
   "id": "c2c311f4",
   "metadata": {},
   "outputs": [
    {
     "data": {
      "text/plain": [
       "[1484118, 1463827010]"
      ]
     },
     "execution_count": 25,
     "metadata": {},
     "output_type": "execute_result"
    }
   ],
   "source": [
    "do(2, 1484118, 1463827010)"
   ]
  },
  {
   "cell_type": "markdown",
   "id": "a6d1e41a",
   "metadata": {},
   "source": [
    "## Day 3: Binary Diagnostic\n",
    "\n",
    "Power consumption is gamma rate times epsilon rate, where the gamma rate is the most common bit setting by position in the input and the epsilon rate is the least common bit setting (the bitwise negation).\n",
    "\n",
    "Life support rating is oxygen generator rating times CO2 scrubber rating. These ratings are found by progressively filtering the list of values to only those with the most/least common bit in the nth position based on the previous bit filtering.\n",
    "\n",
    "1. What is the power consumption of the submarine?\n",
    "2. What is the life support rating of the submarine?"
   ]
  },
  {
   "cell_type": "code",
   "execution_count": 26,
   "id": "71aea0c1",
   "metadata": {},
   "outputs": [],
   "source": [
    "Bitlist = list[int]\n",
    "\n",
    "def most_common_bits(readings: list[str]) -> Bitlist:\n",
    "    rate = [0] * len(readings[0])\n",
    "    for reading in readings:\n",
    "        for i, bit in enumerate(reading):\n",
    "            rate[i] += 1 if bit == \"1\" else -1\n",
    "    return list(map(lambda bit: int(bit >= 0), rate))\n",
    "\n",
    "def least_common_bits(readings: list[str]) -> Bitlist:\n",
    "    rate = [0] * len(readings[0])\n",
    "    for reading in readings:\n",
    "        for i, bit in enumerate(reading):\n",
    "            rate[i] += 1 if bit == \"1\" else -1\n",
    "    return list(map(lambda bit: int(bit < 0), rate))\n",
    "\n",
    "def bitlist_to_int(bitlist: Bitlist) -> int:\n",
    "    val = 0\n",
    "    for i, bit in enumerate(reversed(bitlist)):\n",
    "        val += bit * 2**i\n",
    "    return val\n",
    "\n",
    "def toggle(bitlist: Bitlist) -> Bitlist:\n",
    "    return list(map(lambda x: 0 if x else 1, bitlist))"
   ]
  },
  {
   "cell_type": "code",
   "execution_count": 27,
   "id": "11b73c89",
   "metadata": {},
   "outputs": [],
   "source": [
    "in3 = data(3)"
   ]
  },
  {
   "cell_type": "code",
   "execution_count": 28,
   "id": "c5fb213f",
   "metadata": {},
   "outputs": [],
   "source": [
    "def day3_1(readings):\n",
    "    gamma = most_common_bits(readings)\n",
    "    epsilon = least_common_bits(readings)\n",
    "    return bitlist_to_int(gamma) * bitlist_to_int(epsilon)"
   ]
  },
  {
   "cell_type": "code",
   "execution_count": 29,
   "id": "007834bc",
   "metadata": {},
   "outputs": [],
   "source": [
    "def filter_bits(readings: list[str], filter_fn: Callable[[list[str]], int]) -> int:\n",
    "    filtered = readings\n",
    "    for i in range(len(readings[0])):\n",
    "        filter_bits = filter_fn(filtered)\n",
    "        filtered = list(filter(lambda reading: int(reading[i]) == filter_bits[i], filtered))\n",
    "        if len(filtered) == 1:\n",
    "            break\n",
    "    assert len(filtered) == 1\n",
    "    return int(filtered[0], base=2)\n",
    "\n",
    "def o2_rating(readings: list[str]) -> int: return filter_bits(readings, most_common_bits)\n",
    "def co2_rating(readings: list[str]) -> int: return filter_bits(readings, least_common_bits)\n",
    "\n"
   ]
  },
  {
   "cell_type": "code",
   "execution_count": 30,
   "id": "ce0c3dd2",
   "metadata": {},
   "outputs": [],
   "source": [
    "sample3 = [\n",
    "    '00100',\n",
    "    '11110',\n",
    "    '10110',\n",
    "    '10111',\n",
    "    '10101',\n",
    "    '01111',\n",
    "    '00111',\n",
    "    '11100',\n",
    "    '10000',\n",
    "    '11001',\n",
    "    '00010',\n",
    "    '01010',\n",
    "]\n",
    "assert o2_rating(sample3) == 23\n",
    "assert co2_rating(sample3) == 10"
   ]
  },
  {
   "cell_type": "code",
   "execution_count": 31,
   "id": "e2d1a289",
   "metadata": {},
   "outputs": [],
   "source": [
    "def day3_2(readings): return o2_rating(readings) * co2_rating(readings)"
   ]
  },
  {
   "cell_type": "code",
   "execution_count": 32,
   "id": "a0482c0b",
   "metadata": {},
   "outputs": [
    {
     "data": {
      "text/plain": [
       "[3429254, 5410338]"
      ]
     },
     "execution_count": 32,
     "metadata": {},
     "output_type": "execute_result"
    }
   ],
   "source": [
    "do(3, 3429254, 5410338)"
   ]
  },
  {
   "cell_type": "markdown",
   "id": "c412101c",
   "metadata": {},
   "source": [
    "## Day 4: Giant Squid\n",
    "\n",
    "If all numbers in any row or any column of a board are marked, that board wins. (Diagonals don't count.)\n",
    "\n",
    "The score of the winning board is the sum of all unmarked numbers on that board times the number that was just called when the board won.\n",
    "\n",
    "1. To guarantee victory against the giant squid, figure out which board will win first. What will your final score be if you choose that board?\n",
    "2. Figure out which board will win last. Once it wins, what would its final score be?"
   ]
  },
  {
   "cell_type": "code",
   "execution_count": 33,
   "id": "11108f5c",
   "metadata": {},
   "outputs": [],
   "source": [
    "BingoBoard = list[int]\n",
    "\n",
    "def board_to_list(board: list[str]) -> BingoBoard:\n",
    "    \"\"\"\n",
    "    Convert 2-D board as list of strings to a 1-D list of ints\n",
    "    \"\"\"\n",
    "    return list(chain(*[list(map(int, row.split())) for row in board]))\n",
    "in4 = data(4, parser=str.splitlines, sep=\"\\n\\n\")\n"
   ]
  },
  {
   "cell_type": "code",
   "execution_count": 34,
   "id": "7a616d0e",
   "metadata": {},
   "outputs": [],
   "source": [
    "BOARD_DIM = 5\n",
    "def is_winner(board: BingoBoard) -> bool:\n",
    "    for i in range(BOARD_DIM):\n",
    "        if all(square is None for square in board[i*BOARD_DIM:(i+1)*BOARD_DIM]) or all(square is None for square in board[i::BOARD_DIM]):\n",
    "            return True\n",
    "    return False"
   ]
  },
  {
   "cell_type": "code",
   "execution_count": 35,
   "id": "96fdf806",
   "metadata": {},
   "outputs": [],
   "source": [
    "test_board = list(range(1, BOARD_DIM**2 + 1))\n",
    "winning_row = test_board.copy()\n",
    "winning_row[0:BOARD_DIM] = [None] * BOARD_DIM\n",
    "winning_col = test_board.copy()\n",
    "winning_col[0::BOARD_DIM] = [None] * BOARD_DIM\n",
    "\n",
    "assert not is_winner(test_board)\n",
    "assert is_winner(winning_row)\n",
    "assert is_winner(winning_col)"
   ]
  },
  {
   "cell_type": "code",
   "execution_count": 36,
   "id": "2951e574",
   "metadata": {},
   "outputs": [],
   "source": [
    "def print_board(board):\n",
    "    for i in range(BOARD_DIM):\n",
    "        row = [board[i*BOARD_DIM+j] for j in range(BOARD_DIM)]\n",
    "        print(row)\n",
    "\n",
    "def day4_1(lines: list[str]) -> int:\n",
    "    draws = list(map(int, first(lines)[0].split(\",\")))\n",
    "    boards = list(map(board_to_list, rest(lines)))\n",
    "    for draw in draws:\n",
    "        for board in boards:\n",
    "            try:\n",
    "                board[board.index(draw)] = None\n",
    "            except ValueError:\n",
    "                pass\n",
    "            if is_winner(board):\n",
    "                return sum([square for square in board if square is not None]) * draw\n"
   ]
  },
  {
   "cell_type": "code",
   "execution_count": 37,
   "id": "3ba66740",
   "metadata": {},
   "outputs": [],
   "source": [
    "def day4_2(lines: list[str]) -> int:\n",
    "    draws = list(map(int, first(lines)[0].split(\",\")))\n",
    "    boards = list(map(board_to_list, rest(lines)))\n",
    "    for draw in draws:\n",
    "        winners = []\n",
    "        for board in boards:\n",
    "            try:\n",
    "                board[board.index(draw)] = None\n",
    "            except ValueError:\n",
    "                pass\n",
    "            if is_winner(board):\n",
    "                winners.append(board)\n",
    "        for winner in winners:\n",
    "            boards.remove(winner)\n",
    "        if len(boards) == 0:\n",
    "            return sum([square for square in winners[0] if square is not None]) * draw\n",
    "\n"
   ]
  },
  {
   "cell_type": "code",
   "execution_count": 38,
   "id": "e80c82b4",
   "metadata": {},
   "outputs": [
    {
     "data": {
      "text/plain": [
       "[27027, 36975]"
      ]
     },
     "execution_count": 38,
     "metadata": {},
     "output_type": "execute_result"
    }
   ],
   "source": [
    "do(4, 27027, 36975)\n",
    "# 5120 is too low"
   ]
  },
  {
   "cell_type": "markdown",
   "id": "e66643fa",
   "metadata": {},
   "source": [
    "## Day 5: Hydrothermal Venture\n",
    "\n",
    "Each line of vents is given as a line segment in the format x1,y1 -> x2,y2 inclusive.\n",
    "\n",
    "1. Consider only horizontal and vertical lines. At how many points do at least two lines overlap?\n",
    "2. Consider all lines (horizontal, vertical, and 45° diagonal). At how many points do at least two lines overlap?"
   ]
  },
  {
   "cell_type": "code",
   "execution_count": 107,
   "id": "8e885523",
   "metadata": {},
   "outputs": [],
   "source": [
    "@dataclass\n",
    "class Point:\n",
    "    x: int\n",
    "    y: int\n",
    "\n",
    "    def __hash__(self): return (self.x, self.y).__hash__()\n",
    "\n",
    "    def __repr__(self): return f\"({self.x}, {self.y})\"\n",
    "\n",
    "    def __add__(self, other): return Point(self.x + other.x, self.y + other.y)\n",
    "\n",
    "@dataclass\n",
    "class Line:\n",
    "    start: Point\n",
    "    end: Point"
   ]
  },
  {
   "cell_type": "code",
   "execution_count": 40,
   "id": "cab2016d",
   "metadata": {},
   "outputs": [],
   "source": [
    "def str_to_line(input: str) -> Line:\n",
    "    points = []\n",
    "    for coords in input.split(\" -> \"):\n",
    "        points.append(Point(*list(map(int, coords.split(\",\")))))\n",
    "    return Line(*points)\n",
    "\n",
    "in5 = data(5, parser=str_to_line)\n"
   ]
  },
  {
   "cell_type": "code",
   "execution_count": 41,
   "id": "033e7253",
   "metadata": {},
   "outputs": [],
   "source": [
    "def day5_1(lines: list[Line], do_diagonal=False) -> int:\n",
    "    grid = defaultdict(int)\n",
    "    for line in lines:\n",
    "        if line.start.x == line.end.x:\n",
    "            for y in range(min(line.start.y, line.end.y), max(line.start.y, line.end.y) + 1):\n",
    "                grid[Point(line.start.x, y)] += 1\n",
    "        elif line.start.y == line.end.y:\n",
    "            for x in range(min(line.start.x, line.end.x), max(line.start.x, line.end.x) + 1):\n",
    "                grid[Point(x, line.start.y)] += 1\n",
    "        elif do_diagonal:\n",
    "            x_dir = 1 if line.start.x < line.end.x else -1\n",
    "            y_dir = 1 if line.start.y < line.end.y else -1\n",
    "            current = Point(line.start.x, line.start.y)\n",
    "            grid[current] += 1\n",
    "            while current != line.end:\n",
    "                current = Point(current.x + x_dir, current.y + y_dir)\n",
    "                grid[current] += 1\n",
    "    return quantify(grid.values(), lambda x: x >= 2)\n",
    "\n",
    "def day5_2(lines: list[Line]): return day5_1(lines, do_diagonal=True)"
   ]
  },
  {
   "cell_type": "code",
   "execution_count": 42,
   "id": "035892ab",
   "metadata": {},
   "outputs": [],
   "source": [
    "sample5 = data(5, parser=str_to_line, filetype=\"sample\")\n",
    "assert day5_1(sample5) == 5\n",
    "assert day5_2(sample5) == 12"
   ]
  },
  {
   "cell_type": "code",
   "execution_count": 43,
   "id": "620adb56",
   "metadata": {},
   "outputs": [
    {
     "data": {
      "text/plain": [
       "[5632, 22213]"
      ]
     },
     "execution_count": 43,
     "metadata": {},
     "output_type": "execute_result"
    }
   ],
   "source": [
    "do(5, 5632, 22213)"
   ]
  },
  {
   "cell_type": "markdown",
   "id": "28258e47",
   "metadata": {},
   "source": [
    "## Day 6: Lanternfish\n",
    "\n",
    "Each lanternfish produces a new lanternfish every 6 days, except the first time, which takes 2 days longer.\n",
    "\n",
    "1. How many lanternfish would there be after 80 days?\n",
    "2. How many lanternfish would there be after 256 days?"
   ]
  },
  {
   "cell_type": "code",
   "execution_count": 44,
   "id": "5c8857f5",
   "metadata": {},
   "outputs": [],
   "source": [
    "in6 = data(6, sep=\",\", parser=int)"
   ]
  },
  {
   "cell_type": "code",
   "execution_count": 45,
   "id": "97d395fc",
   "metadata": {},
   "outputs": [],
   "source": [
    "def sim_lanternfish(initial_state: list[int], spawn_rate: int, initial_spawn_rate: int, days: int) -> dict[int, int]:\n",
    "    max_spawn_rate = max(spawn_rate, initial_spawn_rate)\n",
    "    state = {k: 0 for k in range(max_spawn_rate+1)}\n",
    "    for fish in initial_state:\n",
    "        state[fish] = state.get(fish, 0) + 1\n",
    "    \n",
    "    for _ in range(days):\n",
    "        new_state = {k: 0 for k in range(max_spawn_rate+1)}\n",
    "        new_state[initial_spawn_rate] = state.get(0, 0)\n",
    "        for timer in range(1, max_spawn_rate+1):\n",
    "            new_state[timer-1] = state.get(timer, 0)\n",
    "        new_state[spawn_rate] += state[0]\n",
    "        state = new_state\n",
    "\n",
    "    return state"
   ]
  },
  {
   "cell_type": "code",
   "execution_count": 46,
   "id": "de78661d",
   "metadata": {},
   "outputs": [],
   "source": [
    "def day6_1(state): return sum(sim_lanternfish(state, spawn_rate=6, initial_spawn_rate=8, days=80).values())"
   ]
  },
  {
   "cell_type": "code",
   "execution_count": 47,
   "id": "3e6d2fed",
   "metadata": {},
   "outputs": [],
   "source": [
    "def day6_2(state): return sum(sim_lanternfish(state, spawn_rate=6, initial_spawn_rate=8, days=256).values())"
   ]
  },
  {
   "cell_type": "code",
   "execution_count": 48,
   "id": "b46e91d8",
   "metadata": {},
   "outputs": [
    {
     "data": {
      "text/plain": [
       "[379114, 1702631502303]"
      ]
     },
     "execution_count": 48,
     "metadata": {},
     "output_type": "execute_result"
    }
   ],
   "source": [
    "do(6, 379114, 1702631502303)"
   ]
  },
  {
   "cell_type": "markdown",
   "id": "170abee4",
   "metadata": {},
   "source": [
    "## Day 7: The Treachery of Whales\n",
    "\n",
    "We have a bunch of crabs that can only move left and right on a line.\n",
    "\n",
    "1. Each step costs one unit of fuel. Determine the horizontal position that the crabs can align to using the least fuel possible. How much fuel must they spend to align to that position?\n",
    "2. Each step costs one more unit of fuel than the previous step. Determine the horizontal position that the crabs can align to using the least fuel possible. How much fuel must they spend to align to that position?"
   ]
  },
  {
   "cell_type": "code",
   "execution_count": 49,
   "id": "484362f2",
   "metadata": {},
   "outputs": [],
   "source": [
    "in7 = data(7, parser=int, sep=\",\")"
   ]
  },
  {
   "cell_type": "code",
   "execution_count": 50,
   "id": "a2567bf7",
   "metadata": {},
   "outputs": [],
   "source": [
    "def constant_total_fuel(crabs: list[int], target: int) -> int: return sum(map(lambda crab: abs(crab-target), crabs))\n",
    "\n",
    "def triangular_number(n: int) -> int: return n * (n+1) / 2\n",
    "\n",
    "def linear_total_fuel(crabs: list[int], target: int) -> int: return int(sum(map(lambda crab: triangular_number(abs(crab-target)), crabs)))\n",
    "\n",
    "def day7_1(crabs: list[int]) -> int: return constant_total_fuel(crabs, int(median(crabs)))\n",
    "\n",
    "def day7_2(crabs: list[int]) -> int: return linear_total_fuel(crabs, int(mean(crabs)))"
   ]
  },
  {
   "cell_type": "code",
   "execution_count": 51,
   "id": "fdf920f8",
   "metadata": {},
   "outputs": [
    {
     "data": {
      "text/plain": [
       "[335330, 92439766]"
      ]
     },
     "execution_count": 51,
     "metadata": {},
     "output_type": "execute_result"
    }
   ],
   "source": [
    "do(7, 335330, 92439766)\n"
   ]
  },
  {
   "cell_type": "markdown",
   "id": "72453cab",
   "metadata": {},
   "source": [
    "## Day 8: Seven Segment Search\n",
    "\n",
    "We're trying to interpret seven-segment displays. The input lines are ten unique input digits, a pipe, and four output digits. The segments that correspond to each letter are consistent within a line, but random from one line to the next.\n",
    "\n",
    "```text\n",
    "  0:      1:      2:      3:      4:\n",
    " aaaa    ....    aaaa    aaaa    ....\n",
    "b    c  .    c  .    c  .    c  b    c\n",
    "b    c  .    c  .    c  .    c  b    c\n",
    " ....    ....    dddd    dddd    dddd\n",
    "e    f  .    f  e    .  .    f  .    f\n",
    "e    f  .    f  e    .  .    f  .    f\n",
    " gggg    ....    gggg    gggg    ....\n",
    "\n",
    "  5:      6:      7:      8:      9:\n",
    " aaaa    aaaa    aaaa    aaaa    aaaa\n",
    "b    .  b    .  .    c  b    c  b    c\n",
    "b    .  b    .  .    c  b    c  b    c\n",
    " dddd    dddd    ....    dddd    dddd\n",
    ".    f  e    f  .    f  e    f  .    f\n",
    ".    f  e    f  .    f  e    f  .    f\n",
    " gggg    gggg    ....    gggg    gggg\n",
    "```\n",
    "\n",
    "1. **For now, focus on the easy digits.** In the output values, how many times do digits `1`, `4`, `7`, or `8` appear?"
   ]
  },
  {
   "cell_type": "code",
   "execution_count": 52,
   "id": "f9a8da29",
   "metadata": {},
   "outputs": [],
   "source": [
    "Digit = set[str]\n",
    "\n",
    "def digit_to_str(digit: Digit) -> str: return ''.join(sorted(digit))\n",
    "\n",
    "@dataclass\n",
    "class Display:\n",
    "    in_digits: list[Digit]\n",
    "    out_digits: list[Digit]\n",
    "\n",
    "def parser8(line: str) -> Display:\n",
    "    in_str, out_str = line.split('|')\n",
    "    return Display(in_digits=[set(x) for x in in_str.split()], out_digits=[set(x) for x in out_str.split()])\n",
    "\n",
    "in8 = data(8, parser=parser8)"
   ]
  },
  {
   "cell_type": "code",
   "execution_count": 53,
   "id": "689446d2",
   "metadata": {},
   "outputs": [],
   "source": [
    "def day8_1(displays: list[Display]) -> int:\n",
    "    return quantify([digit for display in in8 for digit in display.out_digits], lambda digit: len(digit) in [2,3,4,7])"
   ]
  },
  {
   "cell_type": "code",
   "execution_count": 54,
   "id": "9abb5d13",
   "metadata": {},
   "outputs": [],
   "source": [
    "def decode_display(display: Display) -> int:\n",
    "    knowns = {}\n",
    "    unknowns = display.in_digits.copy()\n",
    "    for k,v in {'8': 7, '4': 4, '7': 3, '1': 2}.items():\n",
    "        knowns[k] = next(digit for digit in unknowns if len(digit) == v)\n",
    "        unknowns.remove(knowns[k])\n",
    "\n",
    "    a = knowns['7'] - knowns['1']\n",
    "    partial = knowns['4'] | a\n",
    "    knowns['9'] = next(digit for digit in unknowns if partial < digit)\n",
    "    unknowns.remove(knowns['9'])\n",
    "\n",
    "    e = knowns['8'] - knowns['9']\n",
    "    partial = knowns['9'] - knowns['1'] | e\n",
    "    knowns['6'] = next(digit for digit in unknowns if partial < digit)\n",
    "    unknowns.remove(knowns['6'])\n",
    "\n",
    "    knowns['0'] = next(digit for digit in unknowns if len(digit) == 6)\n",
    "    unknowns.remove(knowns['0'])\n",
    "\n",
    "    knowns['5'] = knowns['6'] - e\n",
    "    unknowns.remove(knowns['5'])\n",
    "\n",
    "    knowns['3'] = next(digit for digit in unknowns if knowns['1'] < digit)\n",
    "    unknowns.remove(knowns['3'])\n",
    "\n",
    "    assert len(unknowns) == 1\n",
    "    knowns['2'] = unknowns[0]\n",
    "\n",
    "    digits = {digit_to_str(v): k for k, v in knowns.items()}\n",
    "    return int(''.join([digits[digit_to_str(digit)] for digit in display.out_digits]))\n",
    "\n",
    "def day8_2(displays: list[Display]) -> int: return sum([decode_display(display) for display in displays])"
   ]
  },
  {
   "cell_type": "code",
   "execution_count": 55,
   "id": "5eaffef9",
   "metadata": {},
   "outputs": [],
   "source": [
    "assert day8_2(data(8, filetype='sample', parser=parser8)) == 61229"
   ]
  },
  {
   "cell_type": "code",
   "execution_count": 56,
   "id": "8e1e7c42",
   "metadata": {},
   "outputs": [
    {
     "data": {
      "text/plain": [
       "[284, 973499]"
      ]
     },
     "execution_count": 56,
     "metadata": {},
     "output_type": "execute_result"
    }
   ],
   "source": [
    "do(8, 284, 973499)"
   ]
  },
  {
   "cell_type": "markdown",
   "id": "de0b377d",
   "metadata": {},
   "source": [
    "## Day 9: Smoke Basin\n",
    "\n",
    "Each cell in the grid is the height of that point (0-9). A low point is a point that's lower than the four points around it (not diagonals). The risk level of a point is its height + 1.\n",
    "\n",
    "A basin is all the points less than height 9 that are connected to a low point.\n",
    "\n",
    "1. What is the sum of the risk levels of all low points on your heightmap?\n",
    "2. What do you get if you multiply together the sizes of the three largest basins?\n"
   ]
  },
  {
   "cell_type": "code",
   "execution_count": 57,
   "id": "860534df",
   "metadata": {},
   "outputs": [],
   "source": [
    "def str_to_digit_list(line: str) -> list[int]: return list(map(int, line))\n",
    "\n",
    "in9 = data(9, parser=str_to_digit_list)"
   ]
  },
  {
   "cell_type": "code",
   "execution_count": 58,
   "id": "27562fc4",
   "metadata": {},
   "outputs": [],
   "source": [
    "Grid = list[list[int]]\n",
    "\n",
    "def neighbors(grid: Grid, point: Point, nsew=True, diag=False) -> list[Point]:\n",
    "    ret = []\n",
    "    x, y = point.x, point.y\n",
    "    nbrs = [(x-1, y), (x+1, y), (x, y-1), (x, y+1)] if nsew else []\n",
    "    if diag:\n",
    "        nbrs += [(x-1, y-1), (x-1, y+1), (x+1, y-1), (x+1, y+1)]\n",
    "    for x_, y_ in nbrs:\n",
    "        if 0 <= y_ < len(grid) and 0 <= x_ < len(grid[y_]):\n",
    "            ret.append(Point(x_, y_))\n",
    "    return ret\n",
    "\n",
    "def lowest_points(grid: Grid) -> list[Point]:\n",
    "    mins = []\n",
    "    for y in range(len(grid)):\n",
    "        for x in range(len(grid[y])):\n",
    "            if grid[y][x] < min(map(lambda pt: grid[pt.y][pt.x], neighbors(grid, Point(x, y)))):\n",
    "                mins.append(Point(x, y))\n",
    "    return mins\n",
    "\n",
    "def day9_1(grid: Grid) -> int:\n",
    "    lows = lowest_points(grid)\n",
    "    return sum([grid[low.y][low.x] for low in lows]) + len(lows)"
   ]
  },
  {
   "cell_type": "code",
   "execution_count": 59,
   "id": "4827d5da",
   "metadata": {},
   "outputs": [],
   "source": [
    "assert day9_1(data(9, parser=str_to_digit_list, filetype=\"sample\")) == 15"
   ]
  },
  {
   "cell_type": "code",
   "execution_count": 60,
   "id": "b2975f2d",
   "metadata": {},
   "outputs": [],
   "source": [
    "def find_basin(grid: Grid, origin: Point) -> list[Point]:\n",
    "    basin = {origin}\n",
    "    processed = set()\n",
    "    to_process = neighbors(grid, origin)\n",
    "    while to_process:\n",
    "        point = to_process.pop()\n",
    "        processed.add(point)\n",
    "        if point in basin:\n",
    "            continue\n",
    "        if grid[point.y][point.x] < 9:\n",
    "            basin.add(point)\n",
    "            for neighbor in filter(lambda nbr: nbr not in processed, neighbors(grid, point)):\n",
    "                to_process.append(neighbor)\n",
    "    return list(basin)\n",
    "\n",
    "def day9_2(grid: Grid) -> int:\n",
    "    lows = lowest_points(grid)\n",
    "    basins = [find_basin(grid, low) for low in lows]\n",
    "    return prod(sorted(map(len, basins), reverse=True)[0:3])"
   ]
  },
  {
   "cell_type": "code",
   "execution_count": 61,
   "id": "9dcd3dd0",
   "metadata": {},
   "outputs": [],
   "source": [
    "assert day9_2(data(9, parser=str_to_digit_list, filetype=\"sample\")) == 1134"
   ]
  },
  {
   "cell_type": "code",
   "execution_count": 62,
   "id": "40183464",
   "metadata": {},
   "outputs": [
    {
     "data": {
      "text/plain": [
       "[633, 1050192]"
      ]
     },
     "execution_count": 62,
     "metadata": {},
     "output_type": "execute_result"
    }
   ],
   "source": [
    "do(9, 633, 1050192)"
   ]
  },
  {
   "cell_type": "markdown",
   "id": "b6a17a63",
   "metadata": {},
   "source": [
    "## Day 10: Syntax Scoring\n",
    "\n",
    "Time for the annual parser! Start by matching nested grouping characters (`()`, `{}`, `[]`, and `<>`). The first unmatched character in a line gets a score:\n",
    "\n",
    "- `)`: 3 points.\n",
    "- `]`: 57 points.\n",
    "- `}`: 1197 points.\n",
    "- `>`: 25137 points.\n",
    "\n",
    "If we autocomplete the missing closing characters, each of those gets a score as well:\n",
    "\n",
    "- `)`: 1 points.\n",
    "- `]`: 2 points.\n",
    "- `}`: 3 points.\n",
    "- `>`: 4 points.\n",
    "\n",
    "The total autocomplete score is found by iterating over the autocomplete list, multiplying the running score by 5 and adding the current character's score.\n",
    "\n",
    "1. Find the first illegal character in each corrupted line of the navigation subsystem. What is the total syntax error score for those errors?\n",
    "2. Find the completion string for each incomplete line, score the completion strings, and sort the scores. What is the middle score?"
   ]
  },
  {
   "cell_type": "code",
   "execution_count": 63,
   "id": "61f23d9e",
   "metadata": {},
   "outputs": [],
   "source": [
    "in10 = data(10)"
   ]
  },
  {
   "cell_type": "code",
   "execution_count": 64,
   "id": "b6bb7cb7",
   "metadata": {},
   "outputs": [],
   "source": [
    "OPENERS = {\n",
    "    ')': '(',\n",
    "    ']': '[',\n",
    "    '}': '{',\n",
    "    '>': '<',\n",
    "}\n",
    "CLOSERS = {v:k for k, v in OPENERS.items()}\n",
    "\n",
    "OPEN_CHARS = OPENERS.values()\n",
    "CLOSE_CHARS = OPENERS.keys()\n",
    "\n",
    "UNMATCHED_SCORES = {\n",
    "    '': 0,\n",
    "    ')': 3,\n",
    "    ']': 57,\n",
    "    '}': 1197,\n",
    "    '>': 25137,\n",
    "}\n",
    "\n",
    "AUTOCOMPLETE_SCORES = {\n",
    "    '': 0,\n",
    "    ')': 1,\n",
    "    ']': 2,\n",
    "    '}': 3,\n",
    "    '>': 4,\n",
    "}\n",
    "\n",
    "def unmatched(chunk: str, autocomplete=False) -> str:\n",
    "    stack = []\n",
    "    for char in chunk:\n",
    "        if char in OPEN_CHARS:\n",
    "            stack.append(char)\n",
    "        elif char in CLOSE_CHARS:\n",
    "            top = stack.pop()\n",
    "            if top != OPENERS[char]:\n",
    "                return '' if autocomplete else char\n",
    "        else:\n",
    "            raise ValueError(f\"Unknown character '{char}'\")\n",
    "    if autocomplete and stack:\n",
    "        stack.reverse()\n",
    "        return ''.join([CLOSERS[char] for char in stack])\n",
    "    else:\n",
    "        return ''\n",
    "\n",
    "def day10_1(chunks: list[str]) -> int:\n",
    "    return sum([UNMATCHED_SCORES[unmatched(chunk)] for chunk in chunks])"
   ]
  },
  {
   "cell_type": "code",
   "execution_count": 65,
   "id": "3538db5d",
   "metadata": {},
   "outputs": [],
   "source": [
    "def autocomplete_score(completions: str) -> int:\n",
    "    return reduce(lambda total, score: total * 5 + score, [AUTOCOMPLETE_SCORES[char] for char in completions], 0)\n",
    "\n",
    "def day10_2(chunks: list[str]) -> int:\n",
    "    scores = [autocomplete_score(unmatched(chunk, autocomplete=True)) for chunk in chunks]\n",
    "    return int(median([score for score in scores if score > 0]))\n"
   ]
  },
  {
   "cell_type": "code",
   "execution_count": 66,
   "id": "a366f45a",
   "metadata": {},
   "outputs": [
    {
     "data": {
      "text/plain": [
       "[362271, 1698395182]"
      ]
     },
     "execution_count": 66,
     "metadata": {},
     "output_type": "execute_result"
    }
   ],
   "source": [
    "do(10, 362271, 1698395182)"
   ]
  },
  {
   "cell_type": "markdown",
   "id": "d726bd3d",
   "metadata": {},
   "source": [
    "## Day 11: Dumbo Octopus\n",
    "\n",
    "Each octopus occupies a space in a grid. On every step:\n",
    "\n",
    "- The energy level of each octopus increases by 1\n",
    "- Any octopus with an energy level **greater than 9** flashes, which increases the energy level of all eight of its neighbors by 1.\n",
    "  - If this increase puts other octopuses above 9, they also flash, _etc._\n",
    "- Any octopus that flashed has its energy level set back to 0\n",
    "\n",
    "1. How many total flashes are there after 100 steps?"
   ]
  },
  {
   "cell_type": "markdown",
   "id": "82085dd4",
   "metadata": {},
   "source": [
    "### Plan\n",
    "\n",
    "1. Increase energy by 1 across the board\n",
    "2. Set the cells to be checked to all of them\n",
    "3. While there are cells to be checked:\n",
    "   1. Look at all the cells to be checked for values >9. If found:\n",
    "      1. Add it to the list of flashers\n",
    "      2. Add all neighbors to the set to be increased\n",
    "   2. Increment all the neighbors that aren't flashers\n",
    "   3. The set of cells to check is now the unflashed neighbors\n",
    "4. Return the total number of flashers"
   ]
  },
  {
   "cell_type": "code",
   "execution_count": 67,
   "id": "fd1e777b",
   "metadata": {},
   "outputs": [],
   "source": [
    "in11 = data(11, parser=str_to_digit_list)"
   ]
  },
  {
   "cell_type": "code",
   "execution_count": 68,
   "id": "43931b43",
   "metadata": {},
   "outputs": [],
   "source": [
    "def print_grid(grid: Grid):\n",
    "    for line in grid:\n",
    "        print(\"\".join([str(digit) for digit in line]))"
   ]
  },
  {
   "cell_type": "code",
   "execution_count": 69,
   "id": "564995fd",
   "metadata": {},
   "outputs": [],
   "source": [
    "def flasher_step(grid: Grid) -> tuple[Grid, int]:\n",
    "    grid = [[digit + 1 for digit in line] for line in grid]\n",
    "    to_check = set()\n",
    "    flashed = set()\n",
    "    for y in range(len(grid)):\n",
    "        for x in range(len(grid[y])):\n",
    "            to_check.add(Point(x, y))\n",
    "    while to_check:\n",
    "        updated = set()\n",
    "        for point in to_check:\n",
    "            if grid[point.y][point.x] > 9:\n",
    "                flashed.add(point)\n",
    "                grid[point.y][point.x] = 0\n",
    "                for nbr in neighbors(grid, point, nsew=True, diag=True):\n",
    "                    if nbr in flashed:\n",
    "                        continue\n",
    "                    if grid[nbr.y][nbr.x] <= 9:\n",
    "                        grid[nbr.y][nbr.x] +=1\n",
    "                        updated.add(nbr)\n",
    "        to_check = updated\n",
    "    return grid, len(flashed)"
   ]
  },
  {
   "cell_type": "code",
   "execution_count": 70,
   "id": "1e6efc1a",
   "metadata": {},
   "outputs": [],
   "source": [
    "def day11_1(grid: Grid) -> int:\n",
    "    total_flashed = 0\n",
    "    for step in range(100):\n",
    "        grid, flashed = flasher_step(grid)\n",
    "        total_flashed += flashed\n",
    "    return total_flashed"
   ]
  },
  {
   "cell_type": "code",
   "execution_count": 71,
   "id": "1e6efc1a",
   "metadata": {},
   "outputs": [],
   "source": [
    "def day11_2(grid: Grid) -> int:\n",
    "    grid_size = len(grid) * len(grid[0])\n",
    "    step = 0\n",
    "    while True:\n",
    "        step += 1\n",
    "        grid, flashed = flasher_step(grid)\n",
    "        if flashed == grid_size:\n",
    "            return step"
   ]
  },
  {
   "cell_type": "code",
   "execution_count": 72,
   "id": "c4a87553",
   "metadata": {},
   "outputs": [
    {
     "data": {
      "text/plain": [
       "[1732, 290]"
      ]
     },
     "execution_count": 72,
     "metadata": {},
     "output_type": "execute_result"
    }
   ],
   "source": [
    "do(11, 1732, 290)"
   ]
  },
  {
   "cell_type": "markdown",
   "id": "5b9cd725",
   "metadata": {},
   "source": [
    "## Day 12: Passage Pathing\n",
    "\n",
    "Input is a list of cave connections including a \"start\" and an \"end\". Big caves are capitalized, small caves are lowercase. When finding paths, big caves can be revisited and small caves cannot.\n",
    "\n",
    "1. How many paths through this cave system are there that visit small caves at most once?\n",
    "2. If one small cave can be revisited per path, how many paths through this cave system are there?"
   ]
  },
  {
   "cell_type": "markdown",
   "id": "b37a8179",
   "metadata": {},
   "source": [
    "### Plan\n",
    "\n",
    "- Dict of caves: key is cave name, value is set of neighbors\n",
    "- Need to add neighbors in both directions\n",
    "- Keep a set of visited small caves and subtract it from neighbors to determine valid next \n",
    "- Assert that two big caves are not neighbors so no loops possible"
   ]
  },
  {
   "cell_type": "code",
   "execution_count": 73,
   "id": "afc6b2ee",
   "metadata": {},
   "outputs": [],
   "source": [
    "Caves = defaultdict[str, set[str]]\n",
    "Path = list[str]\n",
    "Paths = list[Path]\n",
    "\n",
    "def small(cave: str) -> bool: return cave.lower() == cave\n",
    "\n",
    "def parser12(lines: str) -> Caves:\n",
    "    caves = defaultdict(set)\n",
    "    for line in lines.split(\"\\n\"):\n",
    "        l, r = line.split('-')\n",
    "        caves[l].add(r)\n",
    "        caves[r].add(l)\n",
    "        # Two big caves connected would create an infinite loop\n",
    "        assert small(l) or small(r)\n",
    "    return caves\n",
    "\n",
    "in12 = data(12, parser=parser12, sep=\"\\n\\n\")[0]"
   ]
  },
  {
   "cell_type": "code",
   "execution_count": 74,
   "id": "6bdb94f0",
   "metadata": {},
   "outputs": [],
   "source": [
    "def traverse(caves: Caves, path=Path(), current=\"start\", allow_one_small=False) -> Paths:\n",
    "    path.append(current)\n",
    "    if current == \"end\":\n",
    "        return [path]\n",
    "    paths = Paths()\n",
    "    for cave in caves[current]:\n",
    "        if cave == \"start\":\n",
    "            continue\n",
    "        if small(cave) and cave in path:\n",
    "            if allow_one_small:\n",
    "                paths += traverse(caves, path=path.copy(), current=cave, allow_one_small=False)\n",
    "        else:\n",
    "            paths += traverse(caves, path=path.copy(), current=cave, allow_one_small=allow_one_small)\n",
    "    return paths\n"
   ]
  },
  {
   "cell_type": "code",
   "execution_count": 75,
   "id": "ac21ac64",
   "metadata": {},
   "outputs": [],
   "source": [
    "sample12 = data(12, parser=parser12, sep=\"\\n\\n\", filetype=\"sample\")[0]\n",
    "assert len(traverse(sample12)) == 10\n",
    "assert len(traverse(sample12, allow_one_small=True)) == 36"
   ]
  },
  {
   "cell_type": "code",
   "execution_count": 76,
   "id": "aa4aba75",
   "metadata": {},
   "outputs": [],
   "source": [
    "def day12_1(caves: Caves) -> int: return len(traverse(caves))\n",
    "def day12_2(caves: Caves) -> int: return len(traverse(caves, allow_one_small=True))"
   ]
  },
  {
   "cell_type": "code",
   "execution_count": 77,
   "id": "50a59c21",
   "metadata": {},
   "outputs": [
    {
     "data": {
      "text/plain": [
       "[5104, 149220]"
      ]
     },
     "execution_count": 77,
     "metadata": {},
     "output_type": "execute_result"
    }
   ],
   "source": [
    "do(12, 5104, 149220)"
   ]
  },
  {
   "cell_type": "markdown",
   "id": "cde20e10",
   "metadata": {},
   "source": [
    "## Day 13: Transparent Origami\n",
    "\n",
    "Input is a list of coordinates of dots on a page, followed by a series of folding instructions. Folds with `y=` fold the bottom part over the top part; folds with `x=` fold the right part over the left part. (`(0, 0)` never moves.)\n",
    "\n",
    "After all folds you should see eight capital letters.\n",
    "\n",
    "1. How many dots are visible after completing just the first fold instruction on your transparent paper?\n",
    "2. What code do you use to activate the infrared thermal imaging camera system?"
   ]
  },
  {
   "cell_type": "code",
   "execution_count": 78,
   "id": "9a57d987",
   "metadata": {},
   "outputs": [],
   "source": [
    "Dots = set[Point]\n",
    "\n",
    "@dataclass\n",
    "class Fold():\n",
    "    direction: str\n",
    "    value: int\n",
    "\n",
    "    def beyond(self, dot: Point) -> bool:\n",
    "        return dot.x > self.value if self.direction == 'x' else dot.y > self.value\n",
    "\n",
    "    def over(self, dot: Point) -> Point:\n",
    "        if self.direction == 'x':\n",
    "            return Point(self.value - (dot.x - self.value), dot.y)\n",
    "        else:\n",
    "            return Point(dot.x, self.value - (dot.y - self.value))\n",
    "\n",
    "Folds = list[Fold]\n",
    "\n",
    "@dataclass\n",
    "class Paper():\n",
    "    dots: Dots\n",
    "    folds: Folds\n",
    "\n",
    "    def __str__(self):\n",
    "        max_x = max([dot.x for dot in self.dots])\n",
    "        max_y = max([dot.y for dot in self.dots])\n",
    "        lines = []\n",
    "        for y in range(max_y+1):\n",
    "            line = \"\"\n",
    "            for x in range(max_x+1):\n",
    "                line += \"#\" if Point(x,y) in self.dots else \".\"\n",
    "            lines.append(line)\n",
    "        return \"\\n\".join(lines)\n",
    "\n",
    "def parser13dots(lines: list[str]) -> Dots:\n",
    "    dots = Dots()\n",
    "    for line in lines.split('\\n'):\n",
    "        if ',' in line:\n",
    "            x, y = line.split(',')\n",
    "            dots.add(Point(x=int(x), y=int(y)))\n",
    "        else:\n",
    "            raise ValueError(f\"Unmatched line: {line}\")\n",
    "    return dots\n",
    "\n",
    "def parser13folds(lines: list[str]) -> Folds:\n",
    "    folds = Folds()\n",
    "    for line in lines.split('\\n'):\n",
    "        if line.startswith('fold along '):\n",
    "            dir = line[11]\n",
    "            val = int(line[13:])\n",
    "            folds.append(Fold(direction=dir, value=val))\n",
    "        else:\n",
    "            raise ValueError(f\"Unmatched line: {line}\")\n",
    "    return folds"
   ]
  },
  {
   "cell_type": "code",
   "execution_count": 79,
   "id": "f012a97a",
   "metadata": {},
   "outputs": [],
   "source": [
    "blocks13 = data(13, sep=\"\\n\\n\")\n",
    "in13 = Paper(parser13dots(blocks13[0]), parser13folds(blocks13[1]))"
   ]
  },
  {
   "cell_type": "code",
   "execution_count": 80,
   "id": "4d8f5ec9",
   "metadata": {},
   "outputs": [],
   "source": [
    "def fold(dots: Dots, step: Fold) -> Dots:\n",
    "    moving = set([dot for dot in dots if step.beyond(dot)])\n",
    "    moved = set([step.over(dot) for dot in moving])\n",
    "    dots = dots - moving | moved\n",
    "    return dots"
   ]
  },
  {
   "cell_type": "code",
   "execution_count": 81,
   "id": "01d9f2cf",
   "metadata": {},
   "outputs": [],
   "source": [
    "def day13_1(paper: Paper) -> int:\n",
    "    return len(fold(paper.dots, paper.folds[0]))\n",
    "\n",
    "def day13_2(paper: Paper) -> None:\n",
    "    for instruction in paper.folds:\n",
    "        paper.dots = fold(paper.dots, instruction)\n",
    "    print(paper)\n",
    "    return None"
   ]
  },
  {
   "cell_type": "code",
   "execution_count": 82,
   "id": "5aafde1d",
   "metadata": {},
   "outputs": [
    {
     "name": "stdout",
     "output_type": "stream",
     "text": [
      "#.##..#..#.\n",
      "#...#......\n",
      "......#...#\n",
      "#...#......\n",
      ".#.#..#.###\n"
     ]
    }
   ],
   "source": [
    "sample_blocks13 = data(13, sep=\"\\n\\n\", filetype=\"sample\")\n",
    "sample13 = Paper(parser13dots(sample_blocks13[0]), parser13folds(sample_blocks13[1]))\n",
    "sample13.dots = fold(sample13.dots, sample13.folds[0])\n",
    "print(sample13)"
   ]
  },
  {
   "cell_type": "code",
   "execution_count": 83,
   "id": "eeb4d403",
   "metadata": {},
   "outputs": [
    {
     "name": "stdout",
     "output_type": "stream",
     "text": [
      ".##....##.#..#..##..####.#..#.#..#.#..#\n",
      "#..#....#.#..#.#..#....#.#..#.#.#..#..#\n",
      "#.......#.####.#..#...#..####.##...#..#\n",
      "#.......#.#..#.####..#...#..#.#.#..#..#\n",
      "#..#.#..#.#..#.#..#.#....#..#.#.#..#..#\n",
      ".##...##..#..#.#..#.####.#..#.#..#..##.\n"
     ]
    },
    {
     "data": {
      "text/plain": [
       "[666, None]"
      ]
     },
     "execution_count": 83,
     "metadata": {},
     "output_type": "execute_result"
    }
   ],
   "source": [
    "do(13, 666)\n",
    "# 13-2: \"CJHAZHKU\""
   ]
  },
  {
   "cell_type": "markdown",
   "id": "1c72d18d",
   "metadata": {},
   "source": [
    "## Day 14: Extended Polymerization\n",
    "\n",
    "The first line of the file is the polymer template. The remainder of the file is substitution ruls of the form `AB ->C` meaning replace the instance of `AB` with `ACB`. All substitutions in one step occur simultaneously.\n",
    "\n",
    "1. Apply 10 steps of pair insertion to the polymer template and find the most and least common elements in the result. What do you get if you take the quantity of the most common element and subtract the quantity of the least common element?\n",
    "2. Now apply 40 steps and repeat the calculation.\n"
   ]
  },
  {
   "cell_type": "code",
   "execution_count": 84,
   "id": "b6d5c4c1",
   "metadata": {},
   "outputs": [],
   "source": [
    "Polymer = Counter[str]\n",
    "Substitutions = dict[str, str]\n",
    "\n",
    "def parser14(start, rules: list[str]) -> tuple[str, Substitutions]:\n",
    "    substitutions = {}\n",
    "    for rule in rules:\n",
    "        pair, addition = rule.split(\" -> \")\n",
    "        substitutions[pair] = [pair[0] + addition, addition + pair[1]]\n",
    "    return (start, substitutions)\n"
   ]
  },
  {
   "cell_type": "code",
   "execution_count": 85,
   "id": "726f8c2b",
   "metadata": {},
   "outputs": [],
   "source": [
    "in14 = parser14(*data(14, parser=by_line, sep=\"\\n\\n\"))"
   ]
  },
  {
   "cell_type": "code",
   "execution_count": 86,
   "id": "d86f7bce",
   "metadata": {},
   "outputs": [],
   "source": [
    "def apply_substitutions(polymer: Polymer, substitutions: Substitutions) -> Polymer:\n",
    "    new_polymer = Polymer()\n",
    "    for pair in polymer.keys():\n",
    "        new_polymer.update({new_pair: polymer[pair] for new_pair in substitutions[pair]})\n",
    "    return new_polymer\n",
    "\n",
    "def day14_1(inputs, steps=10):\n",
    "    start, substitutions = inputs\n",
    "    start = start[0]\n",
    "    polymer = Polymer(sliding_window(start, 2))\n",
    "    counts = Counter({start[-1]: 1})\n",
    "    for _ in range(steps):\n",
    "        polymer = apply_substitutions(polymer, substitutions)\n",
    "    for pair,count in polymer.items():\n",
    "        counts.update({pair[0]: count})\n",
    "    return (max(counts.values()) - min(counts.values()))\n",
    "\n",
    "def day14_2(inputs): return day14_1(inputs, steps=40)"
   ]
  },
  {
   "cell_type": "code",
   "execution_count": 87,
   "id": "1446da82",
   "metadata": {},
   "outputs": [
    {
     "data": {
      "text/plain": [
       "[2360, 2967977072188]"
      ]
     },
     "execution_count": 87,
     "metadata": {},
     "output_type": "execute_result"
    }
   ],
   "source": [
    "do(14, 2360, 2967977072188)"
   ]
  },
  {
   "cell_type": "code",
   "execution_count": 88,
   "id": "ff75cdef",
   "metadata": {},
   "outputs": [],
   "source": [
    "sample14 = parser14(*data(14, parser=by_line, sep=\"\\n\\n\", filetype=\"sample\"))"
   ]
  },
  {
   "cell_type": "code",
   "execution_count": 89,
   "id": "67b6145c",
   "metadata": {},
   "outputs": [
    {
     "data": {
      "text/plain": [
       "1588"
      ]
     },
     "execution_count": 89,
     "metadata": {},
     "output_type": "execute_result"
    }
   ],
   "source": [
    "day14_1(sample14)"
   ]
  },
  {
   "cell_type": "markdown",
   "id": "5ce23e66",
   "metadata": {},
   "source": [
    "## Day 15: Chiton\n",
    "\n",
    "The input is an $n \\times n$ risk map. We need to find the path from $(0,0)$ to $(n,n)$ with the minimum total risk. No diagonal moves, and the risk of $(0,0)$ is not included in the total.\n",
    "\n",
    "### Plan\n",
    "\n",
    "Implement [Dijkstra's algorithm](https://en.wikipedia.org/wiki/Dijkstra%27s_algorithm) using a [priority queue](https://docs.python.org/3/library/queue.html#queue.PriorityQueue)\n",
    "\n",
    "For part 2, the input is only 1/25th of the full map. Take the input and replicate it across and down five times each, increasing the individual values by `1` with each replication, with `10` rolling over to `0`.\n",
    "\n",
    "1. What is the lowest total risk of any path from the top left to the bottom right?\n",
    "2. Using the full map, what is the lowest total risk of any path from the top left to the bottom right?"
   ]
  },
  {
   "cell_type": "code",
   "execution_count": 90,
   "id": "90748e7b",
   "metadata": {},
   "outputs": [],
   "source": [
    "in15 = data(15, parser=str_to_digit_list)"
   ]
  },
  {
   "cell_type": "code",
   "execution_count": 91,
   "id": "c25f18e8",
   "metadata": {},
   "outputs": [],
   "source": [
    "@dataclass\n",
    "class QueuedPoint():\n",
    "    priority: int\n",
    "    point: Point\n",
    "\n",
    "    def __lt__(self, other): return self.priority < other.priority\n",
    "\n",
    "def dijkstra(nodes: Grid, source: Point=Point(0, 0), target: Point=None) -> int:\n",
    "    if not target:\n",
    "        max_y = len(nodes)\n",
    "        max_x = len(nodes[0])\n",
    "        target = Point(max_x-1, max_y-1)\n",
    "\n",
    "    queue = PriorityQueue()\n",
    "    queue.put(QueuedPoint(0, Point(0,0)))\n",
    "\n",
    "    risks = {}\n",
    "    risks[source] = 0\n",
    "\n",
    "    previous = {}\n",
    "\n",
    "    while not queue.empty():\n",
    "        current = queue.get()\n",
    "        # if current.point == target:\n",
    "        #     break\n",
    "        for neighbor in neighbors(nodes, current.point):\n",
    "            risk = nodes[neighbor.y][neighbor.x] + risks[current.point]\n",
    "            if neighbor not in risks or risk < risks[neighbor]:\n",
    "                risks[neighbor] = risk\n",
    "                previous[neighbor] = current.point\n",
    "                # if neighbor not in queue:\n",
    "                queue.put(QueuedPoint(risk, neighbor))\n",
    "\n",
    "    total = 0\n",
    "    current = target\n",
    "    while current != source:\n",
    "        total += nodes[current.y][current.x]\n",
    "        current = previous[current]\n",
    "    return total"
   ]
  },
  {
   "cell_type": "code",
   "execution_count": 92,
   "id": "120f83b3",
   "metadata": {},
   "outputs": [],
   "source": [
    "def day15_1(nodes: Grid) -> int: return dijkstra(nodes)"
   ]
  },
  {
   "cell_type": "code",
   "execution_count": 93,
   "id": "be3e4efe",
   "metadata": {},
   "outputs": [],
   "source": [
    "def day15_2(nodes: Grid) -> int:\n",
    "    mega_grid = []\n",
    "    for y in range(5):\n",
    "        for row in nodes:\n",
    "            mega_row = []\n",
    "            for x in range(5):\n",
    "                mega_row += [(cell + x + y) for cell in row]\n",
    "            mega_row = list(map(lambda cell: cell - 9 if cell > 9 else cell, mega_row))\n",
    "            mega_grid.append(mega_row)\n",
    "    return dijkstra(mega_grid)"
   ]
  },
  {
   "cell_type": "code",
   "execution_count": 94,
   "id": "1ad063c3",
   "metadata": {},
   "outputs": [],
   "source": [
    "sample15 = data(15, parser=str_to_digit_list, filetype=\"sample\")\n",
    "assert day15_2(sample15) == 315"
   ]
  },
  {
   "cell_type": "code",
   "execution_count": 95,
   "id": "2d8f32fa",
   "metadata": {},
   "outputs": [
    {
     "data": {
      "text/plain": [
       "[447, 2825]"
      ]
     },
     "execution_count": 95,
     "metadata": {},
     "output_type": "execute_result"
    }
   ],
   "source": [
    "do(15, 447, 2825)"
   ]
  },
  {
   "cell_type": "markdown",
   "id": "6acd1954",
   "metadata": {},
   "source": [
    "## Day 16: Packet Decoder\n",
    "\n",
    "Input is a hex-encoded string of **a single packet** (potentially containing subpackets) with complex rules for interpretation.\n",
    "\n",
    "All packets start with a 3-bit version and a 3-bit type. If `type == 4`, the packet contains a literal value, packed 5 bits at a time. The first bit of eevey five is the continuation bit, which is `0` if this is the last character of the literal, and `1` if it is not. There may be zero-padding to start the next packet on the byte boundary.\n",
    "\n",
    "Every packet type other than literal is an operator of some sort and will contain one or more subpackets. The next bit after the type is the length type ID:\n",
    "\n",
    "* `0` -- the next `15` bits are the **length** of the subpackets in this one\n",
    "* `1` -- the next `11` bits are the **number** of subpackets in this one\n",
    "\n",
    "1. Decode the structure of your hexadecimal-encoded BITS transmission; what do you get if you add up the version numbers in all packets?\n",
    "2. What do you get if you evaluate the expression represented by your hexadecimal-encoded BITS transmission?\n"
   ]
  },
  {
   "cell_type": "code",
   "execution_count": 96,
   "id": "ff2a9c28",
   "metadata": {},
   "outputs": [],
   "source": [
    "Bit = str\n",
    "Bits = list[Bit]\n",
    "\n",
    "class Packet():\n",
    "    LEN_VERSION = 3\n",
    "    LEN_TYPE = 3\n",
    "    LEN_LITERAL = 4\n",
    "    LEN_CHILD_BIT_COUNT = 15\n",
    "    LEN_CHILD_PACKET_COUNT = 11\n",
    "    \n",
    "    TYPE_SUM = 0\n",
    "    TYPE_PRODUCT = 1\n",
    "    TYPE_MIN = 2\n",
    "    TYPE_MAX = 3\n",
    "    TYPE_LITERAL = 4\n",
    "    TYPE_GT = 5\n",
    "    TYPE_LT = 6\n",
    "    TYPE_EQ = 7\n",
    "\n",
    "\n",
    "    BITS = {\n",
    "        '0': '0000', '1': '0001', '2': '0010', '3': '0011',\n",
    "        '4': '0100', '5': '0101', '6': '0110', '7': '0111',\n",
    "        '8': '1000', '9': '1001', 'A': '1010', 'B': '1011',\n",
    "        'C': '1100', 'D': '1101', 'E': '1110', 'F': '1111',\n",
    "    }\n",
    "\n",
    "    def hex_to_bits(hex: str) -> Bits: return \"\".join(map(lambda x: Packet.BITS[x], hex))\n",
    "    def bits_to_int(bits: Bits) -> int: return int(\"\".join(bits), base=2)\n",
    "    \n",
    "    def __init__(self, bits: Bits, start_index=0):\n",
    "        self.value = None\n",
    "        self.children = []\n",
    "\n",
    "        self.bits = bits\n",
    "        self.index = self.start_index = start_index\n",
    "        self.version = Packet.bits_to_int(self.take_bits(Packet.LEN_VERSION))\n",
    "        self.type = Packet.bits_to_int(self.take_bits(Packet.LEN_TYPE))\n",
    "\n",
    "        if self.type == self.TYPE_LITERAL:\n",
    "            value = Bits()\n",
    "            while True:\n",
    "                continuation = self.take_bits(1)\n",
    "                value += self.take_bits(Packet.LEN_LITERAL)\n",
    "                if continuation == \"0\":\n",
    "                    break\n",
    "            self.value = Packet.bits_to_int(value)\n",
    "            # Only the top-level packet has padding\n",
    "            # padding = (self.index + 1) % Packet.LEN_LITERAL\n",
    "            # self.index += padding\n",
    "        else:  # operator packet\n",
    "            length_type = self.take_bits(1)\n",
    "            if length_type == \"0\":\n",
    "                num_child_bits = Packet.bits_to_int(self.take_bits(Packet.LEN_CHILD_BIT_COUNT))\n",
    "                sub_bits = self.take_bits(num_child_bits)\n",
    "                sub_index = 0\n",
    "                while sub_index < num_child_bits:\n",
    "                    new_child = Packet(sub_bits, sub_index)\n",
    "                    sub_index += new_child.bits_used()\n",
    "                    self.children.append(new_child)\n",
    "            elif length_type == \"1\":\n",
    "                num_child_packets = Packet.bits_to_int(self.take_bits(Packet.LEN_CHILD_PACKET_COUNT))\n",
    "                for _ in range(num_child_packets):\n",
    "                    new_child = Packet(self.bits, self.index)\n",
    "                    self.index += new_child.bits_used()\n",
    "                    self.children.append(new_child)\n",
    "\n",
    "    def execute(self) -> int:\n",
    "        if self.type == Packet.TYPE_LITERAL:\n",
    "            return self.value\n",
    "        elif self.type == Packet.TYPE_SUM:\n",
    "            return sum([child.execute() for child in self.children])\n",
    "        elif self.type == Packet.TYPE_PRODUCT:\n",
    "            return prod([child.execute() for child in self.children])\n",
    "        elif self.type == Packet.TYPE_MIN:\n",
    "            return min([child.execute() for child in self.children])\n",
    "        elif self.type == Packet.TYPE_MAX:\n",
    "            return max([child.execute() for child in self.children])\n",
    "        elif self.type == Packet.TYPE_GT:\n",
    "            return int(self.children[0].execute() > self.children[1].execute())\n",
    "        elif self.type == Packet.TYPE_LT:\n",
    "            return int(self.children[0].execute() < self.children[1].execute())\n",
    "        elif self.type == Packet.TYPE_EQ:\n",
    "            return int(self.children[0].execute() == self.children[1].execute())\n",
    "        else:\n",
    "            raise ValueError(f\"Unknown type: {self.type}\")\n",
    "                \n",
    "    def take_bits(self, n) -> Bits:\n",
    "        start = self.index\n",
    "        self.index += n\n",
    "        return self.bits[start:self.index]\n",
    "\n",
    "    def total_bits(self): return len(self.bits)\n",
    "\n",
    "    def bits_used(self): return self.index - self.start_index\n",
    "\n",
    "    def sum_versions(self): return self.version + sum(child.sum_versions() for child in self.children)\n",
    "    \n",
    "    def __str__(self):\n",
    "        ret = [\n",
    "            f\"Version: {self.version}\",\n",
    "            f\"Type: {self.type}\",\n",
    "            f\"Bits: used {self.bits_used()} of {self.total_bits()} (index: {self.index})\"\n",
    "        ]\n",
    "        if self.type == self.TYPE_LITERAL:\n",
    "            ret.append(f\"Value: {self.value}\")\n",
    "        else:\n",
    "            ret += [str(child) for child in self.children]\n",
    "        return \"\\n\".join(ret)"
   ]
  },
  {
   "cell_type": "code",
   "execution_count": 97,
   "id": "05e5528a",
   "metadata": {},
   "outputs": [
    {
     "name": "stdout",
     "output_type": "stream",
     "text": [
      "Version: 6\n",
      "Type: 4\n",
      "Bits: used 21 of 24 (index: 21)\n",
      "Value: 2021\n"
     ]
    }
   ],
   "source": [
    "print(Packet(Packet.hex_to_bits(\"D2FE28\")))"
   ]
  },
  {
   "cell_type": "code",
   "execution_count": 98,
   "id": "d4af93d7",
   "metadata": {},
   "outputs": [
    {
     "name": "stdout",
     "output_type": "stream",
     "text": [
      "Version: 7\n",
      "Type: 3\n",
      "Bits: used 51 of 56 (index: 51)\n",
      "Version: 2\n",
      "Type: 4\n",
      "Bits: used 11 of 56 (index: 29)\n",
      "Value: 1\n",
      "Version: 4\n",
      "Type: 4\n",
      "Bits: used 11 of 56 (index: 40)\n",
      "Value: 2\n",
      "Version: 1\n",
      "Type: 4\n",
      "Bits: used 11 of 56 (index: 51)\n",
      "Value: 3\n"
     ]
    }
   ],
   "source": [
    "print(Packet(Packet.hex_to_bits(\"EE00D40C823060\")))"
   ]
  },
  {
   "cell_type": "code",
   "execution_count": 99,
   "id": "04c9da22",
   "metadata": {},
   "outputs": [
    {
     "name": "stdout",
     "output_type": "stream",
     "text": [
      "Version: 1\n",
      "Type: 6\n",
      "Bits: used 49 of 56 (index: 49)\n",
      "Version: 6\n",
      "Type: 4\n",
      "Bits: used 11 of 27 (index: 11)\n",
      "Value: 10\n",
      "Version: 2\n",
      "Type: 4\n",
      "Bits: used 16 of 27 (index: 27)\n",
      "Value: 20\n"
     ]
    }
   ],
   "source": [
    "print(Packet(Packet.hex_to_bits(\"38006F45291200\")))"
   ]
  },
  {
   "cell_type": "code",
   "execution_count": 100,
   "id": "2aa521e2",
   "metadata": {},
   "outputs": [
    {
     "data": {
      "text/plain": [
       "23"
      ]
     },
     "execution_count": 100,
     "metadata": {},
     "output_type": "execute_result"
    }
   ],
   "source": [
    "Packet(Packet.hex_to_bits(\"C0015000016115A2E0802F182340\")).sum_versions()"
   ]
  },
  {
   "cell_type": "code",
   "execution_count": 101,
   "id": "45dd859c",
   "metadata": {},
   "outputs": [],
   "source": [
    "in16 = data(16)[0]\n",
    "\n",
    "def day16_1(packet) -> int: return Packet(Packet.hex_to_bits(packet)).sum_versions()\n",
    "def day16_2(packet) -> int: return Packet(Packet.hex_to_bits(packet)).execute()"
   ]
  },
  {
   "cell_type": "code",
   "execution_count": 102,
   "id": "d221e699",
   "metadata": {},
   "outputs": [
    {
     "data": {
      "text/plain": [
       "[893, 4358595186090]"
      ]
     },
     "execution_count": 102,
     "metadata": {},
     "output_type": "execute_result"
    }
   ],
   "source": [
    "do(16, 893, 4358595186090)"
   ]
  },
  {
   "cell_type": "markdown",
   "id": "a3a7f1bd",
   "metadata": {},
   "source": [
    "## Day 17: Trick Shot\n",
    "\n",
    "Launch a probe from $(0, 0)$ at an initial velocity of $(x, y)$. Every step the $x$ velocity is reduced by $1$ until it reaches $0$ and the $y$ velocity is reduced by $1$ forever. Find the initial velocity that maximizes the probe's height while still ending up in the target area.\n",
    " \n",
    "My input: `target area: x=25..67, y=-260..-200`\n",
    "\n",
    "1. What is the highest y position it reaches on this trajectory?"
   ]
  },
  {
   "cell_type": "code",
   "execution_count": 298,
   "id": "addb99ec",
   "metadata": {},
   "outputs": [],
   "source": [
    "in17 = (Point(25, -260), Point(67, -200))\n",
    "\n",
    "def trajectory(velocity: Point, min_target: Point, max_target: Point) -> int:\n",
    "    \"\"\"Return max height\"\"\"\n",
    "    current = Point(0, 0)\n",
    "    max_y = 0\n",
    "    hit_target_range = False\n",
    "\n",
    "    while True:\n",
    "        current += velocity\n",
    "        max_y = max(max_y, current.y)\n",
    "        if current.x >= min_target.x and current.y <= max_target.y:\n",
    "            if current.x > max_target.x or current.y < min_target.y:\n",
    "                return None\n",
    "            return max_y\n",
    "        if velocity.x > 0:\n",
    "            velocity.x -= 1\n",
    "        elif current.x < min_target.x:\n",
    "            return None\n",
    "        velocity.y -= 1\n",
    "\n",
    "def trajectories(target_area) -> dict[Point, int]:\n",
    "    target_min, target_max = target_area\n",
    "    assert target_min.y < 0, \"Target min Y must be negative\"\n",
    "    assert target_max.y < 0, \"Target max Y must be negative\"\n",
    "\n",
    "    assert target_max.x > target_min.x, \"Target max X must be greater than target min X\"\n",
    "    assert target_max.y > target_min.y, \"Target max Y must be greater than target min Y\"\n",
    "\n",
    "    # FIXME: Is there a more elegant solution than brute force? Probably...\n",
    "    heights = dict()\n",
    "    for x in range(0, target_max.x+1):\n",
    "        for y in range(-abs(target_min.y), abs(target_min.y)+1):\n",
    "            height = trajectory(Point(x, y), target_min, target_max)\n",
    "            if height is not None:\n",
    "                heights[Point(x,y)] = height\n",
    "    return heights\n",
    "\n",
    "def day17_1(target_area) -> int: return max(trajectories(target_area).values())\n",
    "\n",
    "def day17_2(target_area) -> int: return len(trajectories(target_area))\n"
   ]
  },
  {
   "cell_type": "code",
   "execution_count": 302,
   "id": "fc61b6b1",
   "metadata": {},
   "outputs": [],
   "source": [
    "assert trajectory(Point(6,9), Point(20,-10), Point(30, -5)) == 45\n",
    "assert trajectory(Point(6,0), Point(20,-10), Point(30, -5)) == 0\n",
    "assert day17_2((Point(20,-10), Point(30, -5))) == 112"
   ]
  },
  {
   "cell_type": "code",
   "execution_count": 301,
   "id": "7af7ad1a",
   "metadata": {},
   "outputs": [
    {
     "data": {
      "text/plain": [
       "[33670, 4903]"
      ]
     },
     "execution_count": 301,
     "metadata": {},
     "output_type": "execute_result"
    }
   ],
   "source": [
    "do(17, 33670, 4903)"
   ]
  },
  {
   "cell_type": "markdown",
   "id": "de315fe8",
   "metadata": {},
   "source": [
    "## Day 18: Snailfish\n",
    "\n",
    "Today we're working with snailfish numbers, which are trees of pairs, where each pairs left and right can be either an int, or another pair. Adding two pairs is easy: make a new node with the two addends as children. Things get complicated in the reduction rules.\n",
    "\n",
    "### Reduction\n",
    "\n",
    "To reduce a snailfish number, you must repeatedly do the first action in this list that applies to the snailfish number:\n",
    "\n",
    "1. If any pair is nested inside four pairs, the leftmost such pair explodes.\n",
    "2. If any regular number is 10 or greater, the leftmost such regular number splits.\n",
    "\n",
    "After applying an action, stop and restart the reduction process again. Repeat until no more actions are taken.\n",
    "\n",
    "#### Exploding\n",
    "\n",
    "To explode a pair, the pair's left value is added to the first regular number to the left of the exploding pair (if any), and the pair's right value is added to the first regular number to the right of the exploding pair (if any). Exploding pairs will always consist of two regular numbers. Then, the entire exploding pair is replaced with the regular number 0.\n",
    "\n",
    "#### Splitting\n",
    "\n",
    "To split a regular number, replace it with a pair; the left element of the pair should be the regular number divided by two and rounded down, while the right element of the pair should be the regular number divided by two and rounded up. For example, 10 becomes [5,5], 11 becomes [5,6], 12 becomes [6,6], and so on.\n",
    "\n",
    "#### Magnitude\n",
    "\n",
    "The magnitude of a pair is 3 times the magnitude of its left element plus 2 times the magnitude of its right element. The magnitude of a regular number is just that number.\n",
    "\n",
    "\n",
    "1. Add up all of the snailfish numbers from the homework assignment in the order they appear. What is the magnitude of the final sum?"
   ]
  },
  {
   "cell_type": "code",
   "execution_count": 590,
   "id": "290ad541",
   "metadata": {},
   "outputs": [],
   "source": [
    "@dataclass\n",
    "class Pair():\n",
    "    value: int = None\n",
    "    left: Pair = None\n",
    "    right: Pair = None\n",
    "\n",
    "    def from_str(string: str) -> Pair:\n",
    "        stack = list()\n",
    "        for char in string:\n",
    "            if char in [\"[\", \",\"]:\n",
    "                continue\n",
    "            elif char == \"]\":\n",
    "                r = stack.pop()\n",
    "                l = stack.pop()\n",
    "                pair = Pair(left=l, right=r)\n",
    "                stack.append(pair)\n",
    "            else:\n",
    "                v = int(char)\n",
    "                pair = Pair(value=v)\n",
    "                stack.append(pair)\n",
    "        assert len(stack) == 1\n",
    "        return stack[0]\n",
    "\n",
    "    def __str__(self) -> str:\n",
    "        if self.value is not None:\n",
    "            return str(self.value)\n",
    "        else:\n",
    "            return f\"[{str(self.left)},{str(self.right)}]\"\n",
    "\n",
    "    def __add__(self,other) -> Pair:\n",
    "        return Pair(left=self, right=other)\n",
    "\n",
    "    def traverse(self, depth=0, parent=None) -> tuple[int, int, Pair]:\n",
    "        if self.left is not None:\n",
    "            yield from self.left.traverse(depth=depth+1, parent=self)\n",
    "        if self.value is not None:\n",
    "            yield (self, depth, parent)\n",
    "        if self.right is not None:\n",
    "            yield from self.right.traverse(depth=depth+1, parent=self)\n",
    "\n",
    "\n",
    "    def explode(self):\n",
    "        left = None\n",
    "        exploded = False\n",
    "        pairs = self.traverse()\n",
    "        for current, depth, parent in pairs:\n",
    "            if depth < 5:\n",
    "                left = current\n",
    "            else:\n",
    "                exploded = True\n",
    "                break\n",
    "        if exploded:\n",
    "            skip, _, _ = next(pairs)\n",
    "            assert parent.right == skip\n",
    "            right, _, _ = next(pairs)\n",
    "            if left:\n",
    "                left.value += parent.left.value\n",
    "            if right:\n",
    "                right.value += parent.right.value\n",
    "            parent.left = parent.right = None\n",
    "            parent.value = 0\n",
    "        return exploded\n",
    "\n",
    "# TODO: Traverse tree, make list of (leaf, depth) tuples\n",
    "# First leaf with depth > 4 gets exploded to its neighbors on the list\n",
    "# Also use same leaf list method for splits\n"
   ]
  },
  {
   "cell_type": "code",
   "execution_count": 591,
   "id": "711e455d",
   "metadata": {},
   "outputs": [],
   "source": [
    "for example in [\n",
    "    \"[1,2]\",\n",
    "    \"[[1,2],3]\",\n",
    "    \"[9,[8,7]]\",\n",
    "    \"[[1,9],[8,5]]\",\n",
    "    \"[[[[1,2],[3,4]],[[5,6],[7,8]]],9]\",\n",
    "    \"[[[9,[3,8]],[[0,9],6]],[[[3,7],[4,9]],3]]\",\n",
    "    \"[[[[1,3],[5,3]],[[1,3],[8,7]]],[[[4,9],[6,9]],[[8,2],[7,3]]]]\",\n",
    "]:\n",
    "    assert str(Pair.from_str(example)) == example\n",
    "\n",
    "assert str(Pair.from_str(\"[1,2]\") + Pair.from_str(\"[[3,4],5]\")) == \"[[1,2],[[3,4],5]]\""
   ]
  },
  {
   "cell_type": "code",
   "execution_count": 592,
   "id": "0e01be13",
   "metadata": {},
   "outputs": [],
   "source": [
    "assert list(map(lambda pair_depth: (pair_depth[0].value, pair_depth[1]), Pair.from_str(\"[[[[1,2],[3,4]],[[5,6],[7,8]]],9]\").traverse()))  == [(1,4), (2,4), (3,4), (4,4), (5,4), (6,4), (7,4), (8,4), (9,1)]"
   ]
  },
  {
   "cell_type": "code",
   "execution_count": 594,
   "id": "8d027487",
   "metadata": {},
   "outputs": [
    {
     "data": {
      "text/plain": [
       "'[[3,[2,[8,0]]],[9,[5,[4,[3,2]]]]]'"
      ]
     },
     "execution_count": 594,
     "metadata": {},
     "output_type": "execute_result"
    }
   ],
   "source": [
    "test = Pair.from_str(\"[[3,[2,[1,[7,3]]]],[6,[5,[4,[3,2]]]]]\")\n",
    "test.explode()\n",
    "str(test)"
   ]
  },
  {
   "cell_type": "code",
   "execution_count": null,
   "id": "ea085c56",
   "metadata": {},
   "outputs": [],
   "source": []
  }
 ],
 "metadata": {
  "kernelspec": {
   "display_name": "Python 3 (ipykernel)",
   "language": "python",
   "name": "python3"
  },
  "language_info": {
   "codemirror_mode": {
    "name": "ipython",
    "version": 3
   },
   "file_extension": ".py",
   "mimetype": "text/x-python",
   "name": "python",
   "nbconvert_exporter": "python",
   "pygments_lexer": "ipython3",
   "version": "3.10.0"
  }
 },
 "nbformat": 4,
 "nbformat_minor": 5
}
